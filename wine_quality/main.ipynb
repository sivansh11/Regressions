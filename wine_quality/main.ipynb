{
 "cells": [
  {
   "cell_type": "code",
   "execution_count": 35,
   "metadata": {},
   "outputs": [],
   "source": [
    "import pandas as pd\n",
    "import numpy as np\n",
    "import seaborn as sns\n",
    "import matplotlib.pyplot as plt"
   ]
  },
  {
   "cell_type": "code",
   "execution_count": 4,
   "metadata": {},
   "outputs": [],
   "source": [
    "data = pd.read_csv('winequality-red.xlsx - winequality-red.csv')"
   ]
  },
  {
   "cell_type": "markdown",
   "metadata": {},
   "source": [
    "UNIVARIATE ANALYSIS"
   ]
  },
  {
   "cell_type": "code",
   "execution_count": 5,
   "metadata": {},
   "outputs": [
    {
     "data": {
      "text/plain": [
       "fixed acidity           0\n",
       "volatile acidity        0\n",
       "citric acid             0\n",
       "residual sugar          0\n",
       "chlorides               0\n",
       "free sulfur dioxide     0\n",
       "total sulfur dioxide    0\n",
       "density                 0\n",
       "pH                      0\n",
       "sulphates               0\n",
       "alcohol                 0\n",
       "quality                 0\n",
       "dtype: int64"
      ]
     },
     "execution_count": 5,
     "metadata": {},
     "output_type": "execute_result"
    }
   ],
   "source": [
    "data.isnull().sum()"
   ]
  },
  {
   "cell_type": "code",
   "execution_count": 6,
   "metadata": {},
   "outputs": [
    {
     "data": {
      "text/html": [
       "<div>\n",
       "<style scoped>\n",
       "    .dataframe tbody tr th:only-of-type {\n",
       "        vertical-align: middle;\n",
       "    }\n",
       "\n",
       "    .dataframe tbody tr th {\n",
       "        vertical-align: top;\n",
       "    }\n",
       "\n",
       "    .dataframe thead th {\n",
       "        text-align: right;\n",
       "    }\n",
       "</style>\n",
       "<table border=\"1\" class=\"dataframe\">\n",
       "  <thead>\n",
       "    <tr style=\"text-align: right;\">\n",
       "      <th></th>\n",
       "      <th>fixed acidity</th>\n",
       "      <th>volatile acidity</th>\n",
       "      <th>citric acid</th>\n",
       "      <th>residual sugar</th>\n",
       "      <th>chlorides</th>\n",
       "      <th>free sulfur dioxide</th>\n",
       "      <th>total sulfur dioxide</th>\n",
       "      <th>density</th>\n",
       "      <th>pH</th>\n",
       "      <th>sulphates</th>\n",
       "      <th>alcohol</th>\n",
       "      <th>quality</th>\n",
       "    </tr>\n",
       "  </thead>\n",
       "  <tbody>\n",
       "    <tr>\n",
       "      <th>0</th>\n",
       "      <td>7.4</td>\n",
       "      <td>0.70</td>\n",
       "      <td>0.00</td>\n",
       "      <td>1.9</td>\n",
       "      <td>0.076</td>\n",
       "      <td>11.0</td>\n",
       "      <td>34.0</td>\n",
       "      <td>0.9978</td>\n",
       "      <td>3.51</td>\n",
       "      <td>0.56</td>\n",
       "      <td>9.4</td>\n",
       "      <td>5</td>\n",
       "    </tr>\n",
       "    <tr>\n",
       "      <th>1</th>\n",
       "      <td>7.8</td>\n",
       "      <td>0.88</td>\n",
       "      <td>0.00</td>\n",
       "      <td>2.6</td>\n",
       "      <td>0.098</td>\n",
       "      <td>25.0</td>\n",
       "      <td>67.0</td>\n",
       "      <td>0.9968</td>\n",
       "      <td>3.20</td>\n",
       "      <td>0.68</td>\n",
       "      <td>9.8</td>\n",
       "      <td>5</td>\n",
       "    </tr>\n",
       "    <tr>\n",
       "      <th>2</th>\n",
       "      <td>7.8</td>\n",
       "      <td>0.76</td>\n",
       "      <td>0.04</td>\n",
       "      <td>2.3</td>\n",
       "      <td>0.092</td>\n",
       "      <td>15.0</td>\n",
       "      <td>54.0</td>\n",
       "      <td>0.9970</td>\n",
       "      <td>3.26</td>\n",
       "      <td>0.65</td>\n",
       "      <td>9.8</td>\n",
       "      <td>5</td>\n",
       "    </tr>\n",
       "    <tr>\n",
       "      <th>3</th>\n",
       "      <td>11.2</td>\n",
       "      <td>0.28</td>\n",
       "      <td>0.56</td>\n",
       "      <td>1.9</td>\n",
       "      <td>0.075</td>\n",
       "      <td>17.0</td>\n",
       "      <td>60.0</td>\n",
       "      <td>0.9980</td>\n",
       "      <td>3.16</td>\n",
       "      <td>0.58</td>\n",
       "      <td>9.8</td>\n",
       "      <td>6</td>\n",
       "    </tr>\n",
       "    <tr>\n",
       "      <th>4</th>\n",
       "      <td>7.4</td>\n",
       "      <td>0.70</td>\n",
       "      <td>0.00</td>\n",
       "      <td>1.9</td>\n",
       "      <td>0.076</td>\n",
       "      <td>11.0</td>\n",
       "      <td>34.0</td>\n",
       "      <td>0.9978</td>\n",
       "      <td>3.51</td>\n",
       "      <td>0.56</td>\n",
       "      <td>9.4</td>\n",
       "      <td>5</td>\n",
       "    </tr>\n",
       "  </tbody>\n",
       "</table>\n",
       "</div>"
      ],
      "text/plain": [
       "   fixed acidity  volatile acidity  citric acid  residual sugar  chlorides  \\\n",
       "0            7.4              0.70         0.00             1.9      0.076   \n",
       "1            7.8              0.88         0.00             2.6      0.098   \n",
       "2            7.8              0.76         0.04             2.3      0.092   \n",
       "3           11.2              0.28         0.56             1.9      0.075   \n",
       "4            7.4              0.70         0.00             1.9      0.076   \n",
       "\n",
       "   free sulfur dioxide  total sulfur dioxide  density    pH  sulphates  \\\n",
       "0                 11.0                  34.0   0.9978  3.51       0.56   \n",
       "1                 25.0                  67.0   0.9968  3.20       0.68   \n",
       "2                 15.0                  54.0   0.9970  3.26       0.65   \n",
       "3                 17.0                  60.0   0.9980  3.16       0.58   \n",
       "4                 11.0                  34.0   0.9978  3.51       0.56   \n",
       "\n",
       "   alcohol  quality  \n",
       "0      9.4        5  \n",
       "1      9.8        5  \n",
       "2      9.8        5  \n",
       "3      9.8        6  \n",
       "4      9.4        5  "
      ]
     },
     "execution_count": 6,
     "metadata": {},
     "output_type": "execute_result"
    }
   ],
   "source": [
    "data.head()"
   ]
  },
  {
   "cell_type": "code",
   "execution_count": 7,
   "metadata": {},
   "outputs": [
    {
     "data": {
      "text/plain": [
       "(1599, 12)"
      ]
     },
     "execution_count": 7,
     "metadata": {},
     "output_type": "execute_result"
    }
   ],
   "source": [
    "data.shape"
   ]
  },
  {
   "cell_type": "markdown",
   "metadata": {},
   "source": [
    "BIVARIATE ANALYSIS"
   ]
  },
  {
   "cell_type": "code",
   "execution_count": 8,
   "metadata": {},
   "outputs": [],
   "source": [
    "# sns.pairplot(data)"
   ]
  },
  {
   "cell_type": "code",
   "execution_count": 9,
   "metadata": {},
   "outputs": [],
   "source": [
    "%matplotlib inline\n",
    "corr = data.corr()\n",
    "# sns.heatmap(corr, xticklabels=corr.columns, yticklabels=corr.columns, cmap='turbo_r')"
   ]
  },
  {
   "cell_type": "markdown",
   "metadata": {},
   "source": [
    "DATA PREPROCESSING"
   ]
  },
  {
   "cell_type": "code",
   "execution_count": 10,
   "metadata": {},
   "outputs": [],
   "source": [
    "X, y = data.drop(['quality'], axis=1), data['quality']"
   ]
  },
  {
   "cell_type": "code",
   "execution_count": 16,
   "metadata": {},
   "outputs": [],
   "source": [
    "from sklearn.model_selection import train_test_split\n",
    "train_x, test_x, train_y, test_y = train_test_split(X, y, train_size=0.8, random_state=1)"
   ]
  },
  {
   "cell_type": "code",
   "execution_count": 17,
   "metadata": {},
   "outputs": [],
   "source": [
    "from sklearn.preprocessing import StandardScaler\n",
    "\n",
    "scaler = StandardScaler()\n",
    "scaler.fit(train_x)\n",
    "train_x = scaler.transform(train_x)\n",
    "test_x = scaler.transform(test_x)"
   ]
  },
  {
   "cell_type": "markdown",
   "metadata": {},
   "source": [
    "MACHINE LEARNING"
   ]
  },
  {
   "cell_type": "code",
   "execution_count": 22,
   "metadata": {},
   "outputs": [
    {
     "data": {
      "text/plain": [
       "(1279, 11)"
      ]
     },
     "execution_count": 22,
     "metadata": {},
     "output_type": "execute_result"
    }
   ],
   "source": [
    "train_x.shape"
   ]
  },
  {
   "cell_type": "code",
   "execution_count": 24,
   "metadata": {},
   "outputs": [
    {
     "data": {
      "text/plain": [
       "5    541\n",
       "6    504\n",
       "7    169\n",
       "4     40\n",
       "8     16\n",
       "3      9\n",
       "Name: quality, dtype: int64"
      ]
     },
     "execution_count": 24,
     "metadata": {},
     "output_type": "execute_result"
    }
   ],
   "source": [
    "train_y.value_counts()"
   ]
  },
  {
   "cell_type": "code",
   "execution_count": 43,
   "metadata": {},
   "outputs": [],
   "source": [
    "from tensorflow import keras\n",
    "\n",
    "inputs = keras.Input(train_x.shape[1])\n",
    "layer = keras.layers.Dense(10, activation='relu')(inputs)\n",
    "layer2 = keras.layers.Dense(5, activation='relu')(layer)\n",
    "outputs = keras.layers.Dense(1, activation='relu')(layer2)\n",
    "model = keras.Model(inputs, outputs)\n",
    "model.compile(optimizer='adam', loss='mean_squared_error', metrics=['mean_squared_error'])"
   ]
  },
  {
   "cell_type": "code",
   "execution_count": 44,
   "metadata": {},
   "outputs": [
    {
     "name": "stdout",
     "output_type": "stream",
     "text": [
      "Epoch 1/200\n",
      "32/32 [==============================] - 0s 4ms/step - loss: 30.5400 - mean_squared_error: 30.5400 - val_loss: 28.4913 - val_mean_squared_error: 28.4913\n",
      "Epoch 2/200\n",
      "32/32 [==============================] - 0s 2ms/step - loss: 26.3910 - mean_squared_error: 26.3910 - val_loss: 23.3300 - val_mean_squared_error: 23.3300\n",
      "Epoch 3/200\n",
      "32/32 [==============================] - 0s 2ms/step - loss: 20.8468 - mean_squared_error: 20.8468 - val_loss: 17.6299 - val_mean_squared_error: 17.6299\n",
      "Epoch 4/200\n",
      "32/32 [==============================] - 0s 2ms/step - loss: 15.1510 - mean_squared_error: 15.1510 - val_loss: 12.1195 - val_mean_squared_error: 12.1195\n",
      "Epoch 5/200\n",
      "32/32 [==============================] - 0s 2ms/step - loss: 10.0680 - mean_squared_error: 10.0680 - val_loss: 7.6423 - val_mean_squared_error: 7.6423\n",
      "Epoch 6/200\n",
      "32/32 [==============================] - 0s 2ms/step - loss: 6.2931 - mean_squared_error: 6.2931 - val_loss: 4.6208 - val_mean_squared_error: 4.6208\n",
      "Epoch 7/200\n",
      "32/32 [==============================] - 0s 2ms/step - loss: 3.9938 - mean_squared_error: 3.9938 - val_loss: 3.0469 - val_mean_squared_error: 3.0469\n",
      "Epoch 8/200\n",
      "32/32 [==============================] - 0s 2ms/step - loss: 2.9013 - mean_squared_error: 2.9013 - val_loss: 2.4599 - val_mean_squared_error: 2.4599\n",
      "Epoch 9/200\n",
      "32/32 [==============================] - 0s 2ms/step - loss: 2.4800 - mean_squared_error: 2.4800 - val_loss: 2.2687 - val_mean_squared_error: 2.2687\n",
      "Epoch 10/200\n",
      "32/32 [==============================] - 0s 2ms/step - loss: 2.2890 - mean_squared_error: 2.2890 - val_loss: 2.1598 - val_mean_squared_error: 2.1598\n",
      "Epoch 11/200\n",
      "32/32 [==============================] - 0s 2ms/step - loss: 2.1555 - mean_squared_error: 2.1555 - val_loss: 2.0629 - val_mean_squared_error: 2.0629\n",
      "Epoch 12/200\n",
      "32/32 [==============================] - 0s 2ms/step - loss: 2.0391 - mean_squared_error: 2.0391 - val_loss: 1.9697 - val_mean_squared_error: 1.9697\n",
      "Epoch 13/200\n",
      "32/32 [==============================] - 0s 2ms/step - loss: 1.9334 - mean_squared_error: 1.9334 - val_loss: 1.8844 - val_mean_squared_error: 1.8844\n",
      "Epoch 14/200\n",
      "32/32 [==============================] - 0s 2ms/step - loss: 1.8380 - mean_squared_error: 1.8380 - val_loss: 1.8074 - val_mean_squared_error: 1.8074\n",
      "Epoch 15/200\n",
      "32/32 [==============================] - 0s 2ms/step - loss: 1.7503 - mean_squared_error: 1.7503 - val_loss: 1.7371 - val_mean_squared_error: 1.7371\n",
      "Epoch 16/200\n",
      "32/32 [==============================] - 0s 2ms/step - loss: 1.6683 - mean_squared_error: 1.6683 - val_loss: 1.6711 - val_mean_squared_error: 1.6711\n",
      "Epoch 17/200\n",
      "32/32 [==============================] - 0s 2ms/step - loss: 1.5905 - mean_squared_error: 1.5905 - val_loss: 1.6102 - val_mean_squared_error: 1.6102\n",
      "Epoch 18/200\n",
      "32/32 [==============================] - 0s 2ms/step - loss: 1.5172 - mean_squared_error: 1.5172 - val_loss: 1.5556 - val_mean_squared_error: 1.5556\n",
      "Epoch 19/200\n",
      "32/32 [==============================] - 0s 2ms/step - loss: 1.4489 - mean_squared_error: 1.4489 - val_loss: 1.5058 - val_mean_squared_error: 1.5058\n",
      "Epoch 20/200\n",
      "32/32 [==============================] - 0s 2ms/step - loss: 1.3849 - mean_squared_error: 1.3849 - val_loss: 1.4579 - val_mean_squared_error: 1.4579\n",
      "Epoch 21/200\n",
      "32/32 [==============================] - 0s 2ms/step - loss: 1.3251 - mean_squared_error: 1.3251 - val_loss: 1.4118 - val_mean_squared_error: 1.4118\n",
      "Epoch 22/200\n",
      "32/32 [==============================] - 0s 2ms/step - loss: 1.2697 - mean_squared_error: 1.2697 - val_loss: 1.3675 - val_mean_squared_error: 1.3675\n",
      "Epoch 23/200\n",
      "32/32 [==============================] - 0s 2ms/step - loss: 1.2181 - mean_squared_error: 1.2181 - val_loss: 1.3266 - val_mean_squared_error: 1.3266\n",
      "Epoch 24/200\n",
      "32/32 [==============================] - 0s 2ms/step - loss: 1.1697 - mean_squared_error: 1.1697 - val_loss: 1.2894 - val_mean_squared_error: 1.2894\n",
      "Epoch 25/200\n",
      "32/32 [==============================] - 0s 2ms/step - loss: 1.1239 - mean_squared_error: 1.1239 - val_loss: 1.2541 - val_mean_squared_error: 1.2541\n",
      "Epoch 26/200\n",
      "32/32 [==============================] - 0s 2ms/step - loss: 1.0810 - mean_squared_error: 1.0810 - val_loss: 1.2207 - val_mean_squared_error: 1.2207\n",
      "Epoch 27/200\n",
      "32/32 [==============================] - 0s 2ms/step - loss: 1.0406 - mean_squared_error: 1.0406 - val_loss: 1.1896 - val_mean_squared_error: 1.1896\n",
      "Epoch 28/200\n",
      "32/32 [==============================] - 0s 2ms/step - loss: 1.0023 - mean_squared_error: 1.0023 - val_loss: 1.1594 - val_mean_squared_error: 1.1594\n",
      "Epoch 29/200\n",
      "32/32 [==============================] - 0s 2ms/step - loss: 0.9667 - mean_squared_error: 0.9667 - val_loss: 1.1312 - val_mean_squared_error: 1.1312\n",
      "Epoch 30/200\n",
      "32/32 [==============================] - 0s 2ms/step - loss: 0.9335 - mean_squared_error: 0.9335 - val_loss: 1.1034 - val_mean_squared_error: 1.1034\n",
      "Epoch 31/200\n",
      "32/32 [==============================] - 0s 2ms/step - loss: 0.9023 - mean_squared_error: 0.9023 - val_loss: 1.0777 - val_mean_squared_error: 1.0777\n",
      "Epoch 32/200\n",
      "32/32 [==============================] - 0s 2ms/step - loss: 0.8734 - mean_squared_error: 0.8734 - val_loss: 1.0531 - val_mean_squared_error: 1.0531\n",
      "Epoch 33/200\n",
      "32/32 [==============================] - 0s 2ms/step - loss: 0.8463 - mean_squared_error: 0.8463 - val_loss: 1.0302 - val_mean_squared_error: 1.0302\n",
      "Epoch 34/200\n",
      "32/32 [==============================] - 0s 2ms/step - loss: 0.8206 - mean_squared_error: 0.8206 - val_loss: 1.0084 - val_mean_squared_error: 1.0084\n",
      "Epoch 35/200\n",
      "32/32 [==============================] - 0s 2ms/step - loss: 0.7964 - mean_squared_error: 0.7964 - val_loss: 0.9884 - val_mean_squared_error: 0.9884\n",
      "Epoch 36/200\n",
      "32/32 [==============================] - 0s 2ms/step - loss: 0.7736 - mean_squared_error: 0.7736 - val_loss: 0.9697 - val_mean_squared_error: 0.9697\n",
      "Epoch 37/200\n",
      "32/32 [==============================] - 0s 2ms/step - loss: 0.7524 - mean_squared_error: 0.7524 - val_loss: 0.9518 - val_mean_squared_error: 0.9518\n",
      "Epoch 38/200\n",
      "32/32 [==============================] - 0s 2ms/step - loss: 0.7325 - mean_squared_error: 0.7325 - val_loss: 0.9349 - val_mean_squared_error: 0.9349\n",
      "Epoch 39/200\n",
      "32/32 [==============================] - 0s 2ms/step - loss: 0.7138 - mean_squared_error: 0.7138 - val_loss: 0.9185 - val_mean_squared_error: 0.9185\n",
      "Epoch 40/200\n",
      "32/32 [==============================] - 0s 2ms/step - loss: 0.6960 - mean_squared_error: 0.6960 - val_loss: 0.9025 - val_mean_squared_error: 0.9025\n",
      "Epoch 41/200\n",
      "32/32 [==============================] - 0s 2ms/step - loss: 0.6794 - mean_squared_error: 0.6794 - val_loss: 0.8873 - val_mean_squared_error: 0.8873\n",
      "Epoch 42/200\n",
      "32/32 [==============================] - 0s 3ms/step - loss: 0.6638 - mean_squared_error: 0.6638 - val_loss: 0.8727 - val_mean_squared_error: 0.8727\n",
      "Epoch 43/200\n",
      "32/32 [==============================] - 0s 2ms/step - loss: 0.6490 - mean_squared_error: 0.6490 - val_loss: 0.8588 - val_mean_squared_error: 0.8588\n",
      "Epoch 44/200\n",
      "32/32 [==============================] - 0s 2ms/step - loss: 0.6351 - mean_squared_error: 0.6351 - val_loss: 0.8456 - val_mean_squared_error: 0.8456\n",
      "Epoch 45/200\n",
      "32/32 [==============================] - 0s 2ms/step - loss: 0.6219 - mean_squared_error: 0.6219 - val_loss: 0.8329 - val_mean_squared_error: 0.8329\n",
      "Epoch 46/200\n",
      "32/32 [==============================] - 0s 2ms/step - loss: 0.6093 - mean_squared_error: 0.6093 - val_loss: 0.8206 - val_mean_squared_error: 0.8206\n",
      "Epoch 47/200\n",
      "32/32 [==============================] - 0s 2ms/step - loss: 0.5972 - mean_squared_error: 0.5972 - val_loss: 0.8085 - val_mean_squared_error: 0.8085\n",
      "Epoch 48/200\n",
      "32/32 [==============================] - 0s 2ms/step - loss: 0.5859 - mean_squared_error: 0.5859 - val_loss: 0.7961 - val_mean_squared_error: 0.7961\n",
      "Epoch 49/200\n",
      "32/32 [==============================] - 0s 2ms/step - loss: 0.5752 - mean_squared_error: 0.5752 - val_loss: 0.7854 - val_mean_squared_error: 0.7854\n",
      "Epoch 50/200\n",
      "32/32 [==============================] - 0s 2ms/step - loss: 0.5649 - mean_squared_error: 0.5649 - val_loss: 0.7752 - val_mean_squared_error: 0.7752\n",
      "Epoch 51/200\n",
      "32/32 [==============================] - 0s 2ms/step - loss: 0.5552 - mean_squared_error: 0.5552 - val_loss: 0.7649 - val_mean_squared_error: 0.7649\n",
      "Epoch 52/200\n",
      "32/32 [==============================] - 0s 2ms/step - loss: 0.5459 - mean_squared_error: 0.5459 - val_loss: 0.7545 - val_mean_squared_error: 0.7545\n",
      "Epoch 53/200\n",
      "32/32 [==============================] - 0s 2ms/step - loss: 0.5372 - mean_squared_error: 0.5372 - val_loss: 0.7451 - val_mean_squared_error: 0.7451\n",
      "Epoch 54/200\n",
      "32/32 [==============================] - 0s 2ms/step - loss: 0.5290 - mean_squared_error: 0.5290 - val_loss: 0.7367 - val_mean_squared_error: 0.7367\n",
      "Epoch 55/200\n",
      "32/32 [==============================] - 0s 2ms/step - loss: 0.5213 - mean_squared_error: 0.5213 - val_loss: 0.7281 - val_mean_squared_error: 0.7281\n",
      "Epoch 56/200\n",
      "32/32 [==============================] - 0s 2ms/step - loss: 0.5139 - mean_squared_error: 0.5139 - val_loss: 0.7202 - val_mean_squared_error: 0.7202\n",
      "Epoch 57/200\n",
      "32/32 [==============================] - 0s 3ms/step - loss: 0.5072 - mean_squared_error: 0.5072 - val_loss: 0.7120 - val_mean_squared_error: 0.7120\n",
      "Epoch 58/200\n",
      "32/32 [==============================] - 0s 2ms/step - loss: 0.5008 - mean_squared_error: 0.5008 - val_loss: 0.7047 - val_mean_squared_error: 0.7047\n",
      "Epoch 59/200\n",
      "32/32 [==============================] - 0s 2ms/step - loss: 0.4949 - mean_squared_error: 0.4949 - val_loss: 0.6972 - val_mean_squared_error: 0.6972\n",
      "Epoch 60/200\n",
      "32/32 [==============================] - 0s 2ms/step - loss: 0.4892 - mean_squared_error: 0.4892 - val_loss: 0.6903 - val_mean_squared_error: 0.6903\n",
      "Epoch 61/200\n",
      "32/32 [==============================] - 0s 2ms/step - loss: 0.4839 - mean_squared_error: 0.4839 - val_loss: 0.6831 - val_mean_squared_error: 0.6831\n",
      "Epoch 62/200\n",
      "32/32 [==============================] - 0s 2ms/step - loss: 0.4788 - mean_squared_error: 0.4788 - val_loss: 0.6765 - val_mean_squared_error: 0.6765\n",
      "Epoch 63/200\n",
      "32/32 [==============================] - 0s 2ms/step - loss: 0.4740 - mean_squared_error: 0.4740 - val_loss: 0.6701 - val_mean_squared_error: 0.6701\n",
      "Epoch 64/200\n",
      "32/32 [==============================] - 0s 2ms/step - loss: 0.4693 - mean_squared_error: 0.4693 - val_loss: 0.6641 - val_mean_squared_error: 0.6641\n",
      "Epoch 65/200\n",
      "32/32 [==============================] - 0s 2ms/step - loss: 0.4649 - mean_squared_error: 0.4649 - val_loss: 0.6583 - val_mean_squared_error: 0.6583\n",
      "Epoch 66/200\n",
      "32/32 [==============================] - 0s 2ms/step - loss: 0.4607 - mean_squared_error: 0.4607 - val_loss: 0.6521 - val_mean_squared_error: 0.6521\n",
      "Epoch 67/200\n",
      "32/32 [==============================] - 0s 2ms/step - loss: 0.4567 - mean_squared_error: 0.4567 - val_loss: 0.6462 - val_mean_squared_error: 0.6462\n",
      "Epoch 68/200\n",
      "32/32 [==============================] - 0s 2ms/step - loss: 0.4530 - mean_squared_error: 0.4530 - val_loss: 0.6407 - val_mean_squared_error: 0.6407\n",
      "Epoch 69/200\n",
      "32/32 [==============================] - 0s 2ms/step - loss: 0.4496 - mean_squared_error: 0.4496 - val_loss: 0.6351 - val_mean_squared_error: 0.6351\n",
      "Epoch 70/200\n",
      "32/32 [==============================] - 0s 2ms/step - loss: 0.4464 - mean_squared_error: 0.4464 - val_loss: 0.6300 - val_mean_squared_error: 0.6300\n",
      "Epoch 71/200\n",
      "32/32 [==============================] - 0s 2ms/step - loss: 0.4435 - mean_squared_error: 0.4435 - val_loss: 0.6251 - val_mean_squared_error: 0.6251\n",
      "Epoch 72/200\n",
      "32/32 [==============================] - 0s 2ms/step - loss: 0.4408 - mean_squared_error: 0.4408 - val_loss: 0.6205 - val_mean_squared_error: 0.6205\n",
      "Epoch 73/200\n",
      "32/32 [==============================] - 0s 2ms/step - loss: 0.4381 - mean_squared_error: 0.4381 - val_loss: 0.6162 - val_mean_squared_error: 0.6162\n",
      "Epoch 74/200\n",
      "32/32 [==============================] - 0s 2ms/step - loss: 0.4355 - mean_squared_error: 0.4355 - val_loss: 0.6121 - val_mean_squared_error: 0.6121\n",
      "Epoch 75/200\n",
      "32/32 [==============================] - 0s 2ms/step - loss: 0.4331 - mean_squared_error: 0.4331 - val_loss: 0.6081 - val_mean_squared_error: 0.6081\n",
      "Epoch 76/200\n",
      "32/32 [==============================] - 0s 2ms/step - loss: 0.4307 - mean_squared_error: 0.4307 - val_loss: 0.6045 - val_mean_squared_error: 0.6045\n",
      "Epoch 77/200\n",
      "32/32 [==============================] - 0s 2ms/step - loss: 0.4286 - mean_squared_error: 0.4286 - val_loss: 0.6007 - val_mean_squared_error: 0.6007\n",
      "Epoch 78/200\n",
      "32/32 [==============================] - 0s 2ms/step - loss: 0.4265 - mean_squared_error: 0.4265 - val_loss: 0.5971 - val_mean_squared_error: 0.5971\n",
      "Epoch 79/200\n",
      "32/32 [==============================] - 0s 2ms/step - loss: 0.4245 - mean_squared_error: 0.4245 - val_loss: 0.5935 - val_mean_squared_error: 0.5935\n",
      "Epoch 80/200\n",
      "32/32 [==============================] - 0s 2ms/step - loss: 0.4227 - mean_squared_error: 0.4227 - val_loss: 0.5902 - val_mean_squared_error: 0.5902\n",
      "Epoch 81/200\n",
      "32/32 [==============================] - 0s 2ms/step - loss: 0.4208 - mean_squared_error: 0.4208 - val_loss: 0.5870 - val_mean_squared_error: 0.5870\n",
      "Epoch 82/200\n",
      "32/32 [==============================] - 0s 2ms/step - loss: 0.4190 - mean_squared_error: 0.4190 - val_loss: 0.5833 - val_mean_squared_error: 0.5833\n",
      "Epoch 83/200\n",
      "32/32 [==============================] - 0s 2ms/step - loss: 0.4174 - mean_squared_error: 0.4174 - val_loss: 0.5804 - val_mean_squared_error: 0.5804\n",
      "Epoch 84/200\n",
      "32/32 [==============================] - 0s 2ms/step - loss: 0.4158 - mean_squared_error: 0.4158 - val_loss: 0.5771 - val_mean_squared_error: 0.5771\n",
      "Epoch 85/200\n",
      "32/32 [==============================] - 0s 2ms/step - loss: 0.4142 - mean_squared_error: 0.4142 - val_loss: 0.5740 - val_mean_squared_error: 0.5740\n",
      "Epoch 86/200\n",
      "32/32 [==============================] - 0s 2ms/step - loss: 0.4127 - mean_squared_error: 0.4127 - val_loss: 0.5709 - val_mean_squared_error: 0.5709\n",
      "Epoch 87/200\n",
      "32/32 [==============================] - 0s 2ms/step - loss: 0.4112 - mean_squared_error: 0.4112 - val_loss: 0.5681 - val_mean_squared_error: 0.5681\n",
      "Epoch 88/200\n",
      "32/32 [==============================] - 0s 2ms/step - loss: 0.4097 - mean_squared_error: 0.4097 - val_loss: 0.5650 - val_mean_squared_error: 0.5650\n",
      "Epoch 89/200\n",
      "32/32 [==============================] - 0s 2ms/step - loss: 0.4083 - mean_squared_error: 0.4083 - val_loss: 0.5621 - val_mean_squared_error: 0.5621\n",
      "Epoch 90/200\n",
      "32/32 [==============================] - 0s 2ms/step - loss: 0.4071 - mean_squared_error: 0.4071 - val_loss: 0.5594 - val_mean_squared_error: 0.5594\n",
      "Epoch 91/200\n",
      "32/32 [==============================] - 0s 2ms/step - loss: 0.4060 - mean_squared_error: 0.4060 - val_loss: 0.5568 - val_mean_squared_error: 0.5568\n",
      "Epoch 92/200\n",
      "32/32 [==============================] - 0s 2ms/step - loss: 0.4049 - mean_squared_error: 0.4049 - val_loss: 0.5546 - val_mean_squared_error: 0.5546\n",
      "Epoch 93/200\n",
      "32/32 [==============================] - 0s 2ms/step - loss: 0.4038 - mean_squared_error: 0.4038 - val_loss: 0.5523 - val_mean_squared_error: 0.5523\n",
      "Epoch 94/200\n",
      "32/32 [==============================] - 0s 2ms/step - loss: 0.4027 - mean_squared_error: 0.4027 - val_loss: 0.5500 - val_mean_squared_error: 0.5500\n",
      "Epoch 95/200\n",
      "32/32 [==============================] - 0s 2ms/step - loss: 0.4016 - mean_squared_error: 0.4016 - val_loss: 0.5480 - val_mean_squared_error: 0.5480\n",
      "Epoch 96/200\n",
      "32/32 [==============================] - 0s 2ms/step - loss: 0.4007 - mean_squared_error: 0.4007 - val_loss: 0.5460 - val_mean_squared_error: 0.5460\n",
      "Epoch 97/200\n",
      "32/32 [==============================] - 0s 2ms/step - loss: 0.3996 - mean_squared_error: 0.3996 - val_loss: 0.5442 - val_mean_squared_error: 0.5442\n",
      "Epoch 98/200\n",
      "32/32 [==============================] - 0s 2ms/step - loss: 0.3987 - mean_squared_error: 0.3987 - val_loss: 0.5422 - val_mean_squared_error: 0.5422\n",
      "Epoch 99/200\n",
      "32/32 [==============================] - 0s 2ms/step - loss: 0.3976 - mean_squared_error: 0.3976 - val_loss: 0.5408 - val_mean_squared_error: 0.5408\n",
      "Epoch 100/200\n",
      "32/32 [==============================] - 0s 2ms/step - loss: 0.3963 - mean_squared_error: 0.3963 - val_loss: 0.5393 - val_mean_squared_error: 0.5393\n",
      "Epoch 101/200\n",
      "32/32 [==============================] - 0s 2ms/step - loss: 0.3951 - mean_squared_error: 0.3951 - val_loss: 0.5379 - val_mean_squared_error: 0.5379\n",
      "Epoch 102/200\n",
      "32/32 [==============================] - 0s 2ms/step - loss: 0.3940 - mean_squared_error: 0.3940 - val_loss: 0.5366 - val_mean_squared_error: 0.5366\n",
      "Epoch 103/200\n",
      "32/32 [==============================] - 0s 2ms/step - loss: 0.3930 - mean_squared_error: 0.3930 - val_loss: 0.5356 - val_mean_squared_error: 0.5356\n",
      "Epoch 104/200\n",
      "32/32 [==============================] - 0s 2ms/step - loss: 0.3919 - mean_squared_error: 0.3919 - val_loss: 0.5342 - val_mean_squared_error: 0.5342\n",
      "Epoch 105/200\n",
      "32/32 [==============================] - 0s 2ms/step - loss: 0.3910 - mean_squared_error: 0.3910 - val_loss: 0.5332 - val_mean_squared_error: 0.5332\n",
      "Epoch 106/200\n",
      "32/32 [==============================] - 0s 2ms/step - loss: 0.3900 - mean_squared_error: 0.3900 - val_loss: 0.5320 - val_mean_squared_error: 0.5320\n",
      "Epoch 107/200\n",
      "32/32 [==============================] - 0s 2ms/step - loss: 0.3891 - mean_squared_error: 0.3891 - val_loss: 0.5307 - val_mean_squared_error: 0.5307\n",
      "Epoch 108/200\n",
      "32/32 [==============================] - 0s 2ms/step - loss: 0.3882 - mean_squared_error: 0.3882 - val_loss: 0.5294 - val_mean_squared_error: 0.5294\n",
      "Epoch 109/200\n",
      "32/32 [==============================] - 0s 2ms/step - loss: 0.3871 - mean_squared_error: 0.3871 - val_loss: 0.5279 - val_mean_squared_error: 0.5279\n",
      "Epoch 110/200\n",
      "32/32 [==============================] - 0s 2ms/step - loss: 0.3861 - mean_squared_error: 0.3861 - val_loss: 0.5265 - val_mean_squared_error: 0.5265\n",
      "Epoch 111/200\n",
      "32/32 [==============================] - 0s 2ms/step - loss: 0.3851 - mean_squared_error: 0.3851 - val_loss: 0.5254 - val_mean_squared_error: 0.5254\n",
      "Epoch 112/200\n",
      "32/32 [==============================] - 0s 2ms/step - loss: 0.3843 - mean_squared_error: 0.3843 - val_loss: 0.5244 - val_mean_squared_error: 0.5244\n",
      "Epoch 113/200\n",
      "32/32 [==============================] - 0s 2ms/step - loss: 0.3834 - mean_squared_error: 0.3834 - val_loss: 0.5234 - val_mean_squared_error: 0.5234\n",
      "Epoch 114/200\n",
      "32/32 [==============================] - 0s 2ms/step - loss: 0.3826 - mean_squared_error: 0.3826 - val_loss: 0.5229 - val_mean_squared_error: 0.5229\n",
      "Epoch 115/200\n",
      "32/32 [==============================] - 0s 2ms/step - loss: 0.3819 - mean_squared_error: 0.3819 - val_loss: 0.5222 - val_mean_squared_error: 0.5222\n",
      "Epoch 116/200\n",
      "32/32 [==============================] - 0s 2ms/step - loss: 0.3812 - mean_squared_error: 0.3812 - val_loss: 0.5216 - val_mean_squared_error: 0.5216\n",
      "Epoch 117/200\n",
      "32/32 [==============================] - 0s 2ms/step - loss: 0.3805 - mean_squared_error: 0.3805 - val_loss: 0.5209 - val_mean_squared_error: 0.5209\n",
      "Epoch 118/200\n",
      "32/32 [==============================] - 0s 2ms/step - loss: 0.3799 - mean_squared_error: 0.3799 - val_loss: 0.5204 - val_mean_squared_error: 0.5204\n",
      "Epoch 119/200\n",
      "32/32 [==============================] - 0s 2ms/step - loss: 0.3794 - mean_squared_error: 0.3794 - val_loss: 0.5197 - val_mean_squared_error: 0.5197\n",
      "Epoch 120/200\n",
      "32/32 [==============================] - 0s 2ms/step - loss: 0.3789 - mean_squared_error: 0.3789 - val_loss: 0.5189 - val_mean_squared_error: 0.5189\n",
      "Epoch 121/200\n",
      "32/32 [==============================] - 0s 2ms/step - loss: 0.3784 - mean_squared_error: 0.3784 - val_loss: 0.5184 - val_mean_squared_error: 0.5184\n",
      "Epoch 122/200\n",
      "32/32 [==============================] - 0s 2ms/step - loss: 0.3779 - mean_squared_error: 0.3779 - val_loss: 0.5177 - val_mean_squared_error: 0.5177\n",
      "Epoch 123/200\n",
      "32/32 [==============================] - 0s 2ms/step - loss: 0.3775 - mean_squared_error: 0.3775 - val_loss: 0.5174 - val_mean_squared_error: 0.5174\n",
      "Epoch 124/200\n",
      "32/32 [==============================] - 0s 2ms/step - loss: 0.3770 - mean_squared_error: 0.3770 - val_loss: 0.5168 - val_mean_squared_error: 0.5168\n",
      "Epoch 125/200\n",
      "32/32 [==============================] - 0s 2ms/step - loss: 0.3765 - mean_squared_error: 0.3765 - val_loss: 0.5159 - val_mean_squared_error: 0.5159\n",
      "Epoch 126/200\n",
      "32/32 [==============================] - 0s 2ms/step - loss: 0.3761 - mean_squared_error: 0.3761 - val_loss: 0.5151 - val_mean_squared_error: 0.5151\n",
      "Epoch 127/200\n",
      "32/32 [==============================] - 0s 2ms/step - loss: 0.3756 - mean_squared_error: 0.3756 - val_loss: 0.5146 - val_mean_squared_error: 0.5146\n",
      "Epoch 128/200\n",
      "32/32 [==============================] - 0s 2ms/step - loss: 0.3752 - mean_squared_error: 0.3752 - val_loss: 0.5138 - val_mean_squared_error: 0.5138\n",
      "Epoch 129/200\n",
      "32/32 [==============================] - 0s 2ms/step - loss: 0.3747 - mean_squared_error: 0.3747 - val_loss: 0.5130 - val_mean_squared_error: 0.5130\n",
      "Epoch 130/200\n",
      "32/32 [==============================] - 0s 2ms/step - loss: 0.3743 - mean_squared_error: 0.3743 - val_loss: 0.5124 - val_mean_squared_error: 0.5124\n",
      "Epoch 131/200\n",
      "32/32 [==============================] - 0s 2ms/step - loss: 0.3739 - mean_squared_error: 0.3739 - val_loss: 0.5116 - val_mean_squared_error: 0.5116\n",
      "Epoch 132/200\n",
      "32/32 [==============================] - 0s 2ms/step - loss: 0.3735 - mean_squared_error: 0.3735 - val_loss: 0.5109 - val_mean_squared_error: 0.5109\n",
      "Epoch 133/200\n",
      "32/32 [==============================] - 0s 2ms/step - loss: 0.3732 - mean_squared_error: 0.3732 - val_loss: 0.5102 - val_mean_squared_error: 0.5102\n",
      "Epoch 134/200\n",
      "32/32 [==============================] - 0s 2ms/step - loss: 0.3728 - mean_squared_error: 0.3728 - val_loss: 0.5096 - val_mean_squared_error: 0.5096\n",
      "Epoch 135/200\n",
      "32/32 [==============================] - 0s 2ms/step - loss: 0.3724 - mean_squared_error: 0.3724 - val_loss: 0.5088 - val_mean_squared_error: 0.5088\n",
      "Epoch 136/200\n",
      "32/32 [==============================] - 0s 2ms/step - loss: 0.3721 - mean_squared_error: 0.3721 - val_loss: 0.5084 - val_mean_squared_error: 0.5084\n",
      "Epoch 137/200\n",
      "32/32 [==============================] - 0s 2ms/step - loss: 0.3717 - mean_squared_error: 0.3717 - val_loss: 0.5074 - val_mean_squared_error: 0.5074\n",
      "Epoch 138/200\n",
      "32/32 [==============================] - 0s 2ms/step - loss: 0.3714 - mean_squared_error: 0.3714 - val_loss: 0.5070 - val_mean_squared_error: 0.5070\n",
      "Epoch 139/200\n",
      "32/32 [==============================] - 0s 2ms/step - loss: 0.3709 - mean_squared_error: 0.3709 - val_loss: 0.5060 - val_mean_squared_error: 0.5060\n",
      "Epoch 140/200\n",
      "32/32 [==============================] - 0s 2ms/step - loss: 0.3706 - mean_squared_error: 0.3706 - val_loss: 0.5056 - val_mean_squared_error: 0.5056\n",
      "Epoch 141/200\n",
      "32/32 [==============================] - 0s 2ms/step - loss: 0.3702 - mean_squared_error: 0.3702 - val_loss: 0.5047 - val_mean_squared_error: 0.5047\n",
      "Epoch 142/200\n",
      "32/32 [==============================] - 0s 2ms/step - loss: 0.3698 - mean_squared_error: 0.3698 - val_loss: 0.5043 - val_mean_squared_error: 0.5043\n",
      "Epoch 143/200\n",
      "32/32 [==============================] - 0s 2ms/step - loss: 0.3694 - mean_squared_error: 0.3694 - val_loss: 0.5037 - val_mean_squared_error: 0.5037\n",
      "Epoch 144/200\n",
      "32/32 [==============================] - 0s 2ms/step - loss: 0.3691 - mean_squared_error: 0.3691 - val_loss: 0.5030 - val_mean_squared_error: 0.5030\n",
      "Epoch 145/200\n",
      "32/32 [==============================] - 0s 2ms/step - loss: 0.3687 - mean_squared_error: 0.3687 - val_loss: 0.5024 - val_mean_squared_error: 0.5024\n",
      "Epoch 146/200\n",
      "32/32 [==============================] - 0s 2ms/step - loss: 0.3684 - mean_squared_error: 0.3684 - val_loss: 0.5015 - val_mean_squared_error: 0.5015\n",
      "Epoch 147/200\n",
      "32/32 [==============================] - 0s 2ms/step - loss: 0.3680 - mean_squared_error: 0.3680 - val_loss: 0.5010 - val_mean_squared_error: 0.5010\n",
      "Epoch 148/200\n",
      "32/32 [==============================] - 0s 2ms/step - loss: 0.3677 - mean_squared_error: 0.3677 - val_loss: 0.5004 - val_mean_squared_error: 0.5004\n",
      "Epoch 149/200\n",
      "32/32 [==============================] - 0s 2ms/step - loss: 0.3674 - mean_squared_error: 0.3674 - val_loss: 0.4998 - val_mean_squared_error: 0.4998\n",
      "Epoch 150/200\n",
      "32/32 [==============================] - 0s 2ms/step - loss: 0.3671 - mean_squared_error: 0.3671 - val_loss: 0.4994 - val_mean_squared_error: 0.4994\n",
      "Epoch 151/200\n",
      "32/32 [==============================] - 0s 2ms/step - loss: 0.3669 - mean_squared_error: 0.3669 - val_loss: 0.4993 - val_mean_squared_error: 0.4993\n",
      "Epoch 152/200\n",
      "32/32 [==============================] - 0s 2ms/step - loss: 0.3666 - mean_squared_error: 0.3666 - val_loss: 0.4987 - val_mean_squared_error: 0.4987\n",
      "Epoch 153/200\n",
      "32/32 [==============================] - 0s 2ms/step - loss: 0.3664 - mean_squared_error: 0.3664 - val_loss: 0.4980 - val_mean_squared_error: 0.4980\n",
      "Epoch 154/200\n",
      "32/32 [==============================] - 0s 2ms/step - loss: 0.3661 - mean_squared_error: 0.3661 - val_loss: 0.4976 - val_mean_squared_error: 0.4976\n",
      "Epoch 155/200\n",
      "32/32 [==============================] - 0s 2ms/step - loss: 0.3659 - mean_squared_error: 0.3659 - val_loss: 0.4972 - val_mean_squared_error: 0.4972\n",
      "Epoch 156/200\n",
      "32/32 [==============================] - 0s 2ms/step - loss: 0.3657 - mean_squared_error: 0.3657 - val_loss: 0.4972 - val_mean_squared_error: 0.4972\n",
      "Epoch 157/200\n",
      "32/32 [==============================] - 0s 2ms/step - loss: 0.3654 - mean_squared_error: 0.3654 - val_loss: 0.4965 - val_mean_squared_error: 0.4965\n",
      "Epoch 158/200\n",
      "32/32 [==============================] - 0s 2ms/step - loss: 0.3652 - mean_squared_error: 0.3652 - val_loss: 0.4962 - val_mean_squared_error: 0.4962\n",
      "Epoch 159/200\n",
      "32/32 [==============================] - 0s 2ms/step - loss: 0.3649 - mean_squared_error: 0.3649 - val_loss: 0.4957 - val_mean_squared_error: 0.4957\n",
      "Epoch 160/200\n",
      "32/32 [==============================] - 0s 2ms/step - loss: 0.3647 - mean_squared_error: 0.3647 - val_loss: 0.4955 - val_mean_squared_error: 0.4955\n",
      "Epoch 161/200\n",
      "32/32 [==============================] - 0s 2ms/step - loss: 0.3644 - mean_squared_error: 0.3644 - val_loss: 0.4952 - val_mean_squared_error: 0.4952\n",
      "Epoch 162/200\n",
      "32/32 [==============================] - 0s 2ms/step - loss: 0.3642 - mean_squared_error: 0.3642 - val_loss: 0.4947 - val_mean_squared_error: 0.4947\n",
      "Epoch 163/200\n",
      "32/32 [==============================] - 0s 2ms/step - loss: 0.3640 - mean_squared_error: 0.3640 - val_loss: 0.4943 - val_mean_squared_error: 0.4943\n",
      "Epoch 164/200\n",
      "32/32 [==============================] - 0s 2ms/step - loss: 0.3638 - mean_squared_error: 0.3638 - val_loss: 0.4942 - val_mean_squared_error: 0.4942\n",
      "Epoch 165/200\n",
      "32/32 [==============================] - 0s 2ms/step - loss: 0.3635 - mean_squared_error: 0.3635 - val_loss: 0.4936 - val_mean_squared_error: 0.4936\n",
      "Epoch 166/200\n",
      "32/32 [==============================] - 0s 2ms/step - loss: 0.3633 - mean_squared_error: 0.3633 - val_loss: 0.4935 - val_mean_squared_error: 0.4935\n",
      "Epoch 167/200\n",
      "32/32 [==============================] - 0s 2ms/step - loss: 0.3631 - mean_squared_error: 0.3631 - val_loss: 0.4930 - val_mean_squared_error: 0.4930\n",
      "Epoch 168/200\n",
      "32/32 [==============================] - 0s 2ms/step - loss: 0.3630 - mean_squared_error: 0.3630 - val_loss: 0.4929 - val_mean_squared_error: 0.4929\n",
      "Epoch 169/200\n",
      "32/32 [==============================] - 0s 2ms/step - loss: 0.3627 - mean_squared_error: 0.3627 - val_loss: 0.4927 - val_mean_squared_error: 0.4927\n",
      "Epoch 170/200\n",
      "32/32 [==============================] - 0s 2ms/step - loss: 0.3625 - mean_squared_error: 0.3625 - val_loss: 0.4925 - val_mean_squared_error: 0.4925\n",
      "Epoch 171/200\n",
      "32/32 [==============================] - 0s 2ms/step - loss: 0.3623 - mean_squared_error: 0.3623 - val_loss: 0.4923 - val_mean_squared_error: 0.4923\n",
      "Epoch 172/200\n",
      "32/32 [==============================] - 0s 2ms/step - loss: 0.3621 - mean_squared_error: 0.3621 - val_loss: 0.4926 - val_mean_squared_error: 0.4926\n",
      "Epoch 173/200\n",
      "32/32 [==============================] - 0s 2ms/step - loss: 0.3620 - mean_squared_error: 0.3620 - val_loss: 0.4921 - val_mean_squared_error: 0.4921\n",
      "Epoch 174/200\n",
      "32/32 [==============================] - 0s 2ms/step - loss: 0.3617 - mean_squared_error: 0.3617 - val_loss: 0.4920 - val_mean_squared_error: 0.4920\n",
      "Epoch 175/200\n",
      "32/32 [==============================] - 0s 2ms/step - loss: 0.3616 - mean_squared_error: 0.3616 - val_loss: 0.4917 - val_mean_squared_error: 0.4917\n",
      "Epoch 176/200\n",
      "32/32 [==============================] - 0s 2ms/step - loss: 0.3614 - mean_squared_error: 0.3614 - val_loss: 0.4913 - val_mean_squared_error: 0.4913\n",
      "Epoch 177/200\n",
      "32/32 [==============================] - 0s 2ms/step - loss: 0.3612 - mean_squared_error: 0.3612 - val_loss: 0.4914 - val_mean_squared_error: 0.4914\n",
      "Epoch 178/200\n",
      "32/32 [==============================] - 0s 2ms/step - loss: 0.3610 - mean_squared_error: 0.3610 - val_loss: 0.4909 - val_mean_squared_error: 0.4909\n",
      "Epoch 179/200\n",
      "32/32 [==============================] - 0s 2ms/step - loss: 0.3609 - mean_squared_error: 0.3609 - val_loss: 0.4909 - val_mean_squared_error: 0.4909\n",
      "Epoch 180/200\n",
      "32/32 [==============================] - 0s 2ms/step - loss: 0.3607 - mean_squared_error: 0.3607 - val_loss: 0.4906 - val_mean_squared_error: 0.4906\n",
      "Epoch 181/200\n",
      "32/32 [==============================] - 0s 2ms/step - loss: 0.3605 - mean_squared_error: 0.3605 - val_loss: 0.4904 - val_mean_squared_error: 0.4904\n",
      "Epoch 182/200\n",
      "32/32 [==============================] - 0s 2ms/step - loss: 0.3604 - mean_squared_error: 0.3604 - val_loss: 0.4906 - val_mean_squared_error: 0.4906\n",
      "Epoch 183/200\n",
      "32/32 [==============================] - 0s 2ms/step - loss: 0.3602 - mean_squared_error: 0.3602 - val_loss: 0.4900 - val_mean_squared_error: 0.4900\n",
      "Epoch 184/200\n",
      "32/32 [==============================] - 0s 2ms/step - loss: 0.3600 - mean_squared_error: 0.3600 - val_loss: 0.4901 - val_mean_squared_error: 0.4901\n",
      "Epoch 185/200\n",
      "32/32 [==============================] - 0s 2ms/step - loss: 0.3599 - mean_squared_error: 0.3599 - val_loss: 0.4899 - val_mean_squared_error: 0.4899\n",
      "Epoch 186/200\n",
      "32/32 [==============================] - 0s 2ms/step - loss: 0.3598 - mean_squared_error: 0.3598 - val_loss: 0.4898 - val_mean_squared_error: 0.4898\n",
      "Epoch 187/200\n",
      "32/32 [==============================] - 0s 2ms/step - loss: 0.3596 - mean_squared_error: 0.3596 - val_loss: 0.4896 - val_mean_squared_error: 0.4896\n",
      "Epoch 188/200\n",
      "32/32 [==============================] - 0s 2ms/step - loss: 0.3595 - mean_squared_error: 0.3595 - val_loss: 0.4895 - val_mean_squared_error: 0.4895\n",
      "Epoch 189/200\n",
      "32/32 [==============================] - 0s 2ms/step - loss: 0.3594 - mean_squared_error: 0.3594 - val_loss: 0.4898 - val_mean_squared_error: 0.4898\n",
      "Epoch 190/200\n",
      "32/32 [==============================] - 0s 2ms/step - loss: 0.3594 - mean_squared_error: 0.3594 - val_loss: 0.4893 - val_mean_squared_error: 0.4893\n",
      "Epoch 191/200\n",
      "32/32 [==============================] - 0s 2ms/step - loss: 0.3592 - mean_squared_error: 0.3592 - val_loss: 0.4896 - val_mean_squared_error: 0.4896\n",
      "Epoch 192/200\n",
      "32/32 [==============================] - 0s 2ms/step - loss: 0.3591 - mean_squared_error: 0.3591 - val_loss: 0.4896 - val_mean_squared_error: 0.4896\n",
      "Epoch 193/200\n",
      "32/32 [==============================] - 0s 2ms/step - loss: 0.3591 - mean_squared_error: 0.3591 - val_loss: 0.4894 - val_mean_squared_error: 0.4894\n",
      "Epoch 194/200\n",
      "32/32 [==============================] - 0s 2ms/step - loss: 0.3588 - mean_squared_error: 0.3588 - val_loss: 0.4894 - val_mean_squared_error: 0.4894\n",
      "Epoch 195/200\n",
      "32/32 [==============================] - 0s 2ms/step - loss: 0.3588 - mean_squared_error: 0.3588 - val_loss: 0.4895 - val_mean_squared_error: 0.4895\n",
      "Epoch 196/200\n",
      "32/32 [==============================] - 0s 2ms/step - loss: 0.3587 - mean_squared_error: 0.3587 - val_loss: 0.4893 - val_mean_squared_error: 0.4893\n",
      "Epoch 197/200\n",
      "32/32 [==============================] - 0s 2ms/step - loss: 0.3586 - mean_squared_error: 0.3586 - val_loss: 0.4889 - val_mean_squared_error: 0.4889\n",
      "Epoch 198/200\n",
      "32/32 [==============================] - 0s 2ms/step - loss: 0.3585 - mean_squared_error: 0.3585 - val_loss: 0.4888 - val_mean_squared_error: 0.4888\n",
      "Epoch 199/200\n",
      "32/32 [==============================] - 0s 2ms/step - loss: 0.3584 - mean_squared_error: 0.3584 - val_loss: 0.4889 - val_mean_squared_error: 0.4889\n",
      "Epoch 200/200\n",
      "32/32 [==============================] - 0s 2ms/step - loss: 0.3583 - mean_squared_error: 0.3583 - val_loss: 0.4889 - val_mean_squared_error: 0.4889\n"
     ]
    }
   ],
   "source": [
    "history = model.fit(train_x, train_y, epochs=200, batch_size=32, validation_split=0.2, shuffle=False)"
   ]
  },
  {
   "cell_type": "code",
   "execution_count": 45,
   "metadata": {},
   "outputs": [
    {
     "data": {
      "text/plain": [
       "<matplotlib.legend.Legend at 0x7f6f88355090>"
      ]
     },
     "execution_count": 45,
     "metadata": {},
     "output_type": "execute_result"
    },
    {
     "data": {
      "image/png": "[encoded data removed]",
      "text/plain": [
       "<Figure size 640x480 with 1 Axes>"
      ]
     },
     "metadata": {},
     "output_type": "display_data"
    }
   ],
   "source": [
    "plt.plot(history.history['loss'])\n",
    "plt.plot(history.history['val_loss'])\n",
    "plt.title('model loss')\n",
    "plt.ylabel('loss')\n",
    "plt.xlabel('epoch')\n",
    "plt.legend(['train', 'validation'], loc='upper left')"
   ]
  },
  {
   "cell_type": "code",
   "execution_count": 46,
   "metadata": {},
   "outputs": [
    {
     "name": "stdout",
     "output_type": "stream",
     "text": [
      "10/10 [==============================] - 0s 979us/step\n"
     ]
    }
   ],
   "source": [
    "preds = model.predict(test_x)"
   ]
  },
  {
   "cell_type": "code",
   "execution_count": 57,
   "metadata": {},
   "outputs": [
    {
     "data": {
      "text/plain": [
       "0.6944231270120349"
      ]
     },
     "execution_count": 57,
     "metadata": {},
     "output_type": "execute_result"
    }
   ],
   "source": [
    "np.sqrt(np.mean((test_y - preds)**2))"
   ]
  },
  {
   "cell_type": "markdown",
   "metadata": {},
   "source": [
    "model can predict with a error range of +- 0.69"
   ]
  },
  {
   "cell_type": "code",
   "execution_count": 58,
   "metadata": {},
   "outputs": [
    {
     "data": {
      "text/plain": [
       "9.558258268804778"
      ]
     },
     "execution_count": 58,
     "metadata": {},
     "output_type": "execute_result"
    }
   ],
   "source": [
    "(np.mean(np.abs(((test_y - preds) / test_y))))*100\n"
   ]
  },
  {
   "cell_type": "markdown",
   "metadata": {},
   "source": [
    "model will be off by 9.5% "
   ]
  },
  {
   "cell_type": "code",
   "execution_count": null,
   "metadata": {},
   "outputs": [],
   "source": []
  }
 ],
 "metadata": {
  "kernelspec": {
   "display_name": "Python 3.10.4 ('env': venv)",
   "language": "python",
   "name": "python3"
  },
  "language_info": {
   "codemirror_mode": {
    "name": "ipython",
    "version": 3
   },
   "file_extension": ".py",
   "mimetype": "text/x-python",
   "name": "python",
   "nbconvert_exporter": "python",
   "pygments_lexer": "ipython3",
   "version": "3.10.4"
  },
  "orig_nbformat": 4,
  "vscode": {
   "interpreter": {
    "hash": "c653b842baf4c2ae173c3df82cfaef47c6d4e407a38bc3131eaa728561ebe308"
   }
  }
 },
 "nbformat": 4,
 "nbformat_minor": 2
}
