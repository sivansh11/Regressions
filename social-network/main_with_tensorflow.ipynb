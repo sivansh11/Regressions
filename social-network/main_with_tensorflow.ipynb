{
 "cells": [
  {
   "cell_type": "markdown",
   "metadata": {},
   "source": [
    "IMPORTS"
   ]
  },
  {
   "cell_type": "code",
   "execution_count": 1,
   "metadata": {},
   "outputs": [],
   "source": [
    "import pandas as pd\n",
    "import numpy as np\n",
    "import seaborn as sns"
   ]
  },
  {
   "cell_type": "code",
   "execution_count": 2,
   "metadata": {},
   "outputs": [
    {
     "data": {
      "text/html": [
       "<div>\n",
       "<style scoped>\n",
       "    .dataframe tbody tr th:only-of-type {\n",
       "        vertical-align: middle;\n",
       "    }\n",
       "\n",
       "    .dataframe tbody tr th {\n",
       "        vertical-align: top;\n",
       "    }\n",
       "\n",
       "    .dataframe thead th {\n",
       "        text-align: right;\n",
       "    }\n",
       "</style>\n",
       "<table border=\"1\" class=\"dataframe\">\n",
       "  <thead>\n",
       "    <tr style=\"text-align: right;\">\n",
       "      <th></th>\n",
       "      <th>Gender</th>\n",
       "      <th>Age</th>\n",
       "      <th>EstimatedSalary</th>\n",
       "      <th>Purchased</th>\n",
       "    </tr>\n",
       "  </thead>\n",
       "  <tbody>\n",
       "    <tr>\n",
       "      <th>0</th>\n",
       "      <td>Male</td>\n",
       "      <td>19</td>\n",
       "      <td>19000</td>\n",
       "      <td>0</td>\n",
       "    </tr>\n",
       "    <tr>\n",
       "      <th>1</th>\n",
       "      <td>Male</td>\n",
       "      <td>35</td>\n",
       "      <td>20000</td>\n",
       "      <td>0</td>\n",
       "    </tr>\n",
       "    <tr>\n",
       "      <th>2</th>\n",
       "      <td>Female</td>\n",
       "      <td>26</td>\n",
       "      <td>43000</td>\n",
       "      <td>0</td>\n",
       "    </tr>\n",
       "    <tr>\n",
       "      <th>3</th>\n",
       "      <td>Female</td>\n",
       "      <td>27</td>\n",
       "      <td>57000</td>\n",
       "      <td>0</td>\n",
       "    </tr>\n",
       "    <tr>\n",
       "      <th>4</th>\n",
       "      <td>Male</td>\n",
       "      <td>19</td>\n",
       "      <td>76000</td>\n",
       "      <td>0</td>\n",
       "    </tr>\n",
       "  </tbody>\n",
       "</table>\n",
       "</div>"
      ],
      "text/plain": [
       "   Gender  Age  EstimatedSalary  Purchased\n",
       "0    Male   19            19000          0\n",
       "1    Male   35            20000          0\n",
       "2  Female   26            43000          0\n",
       "3  Female   27            57000          0\n",
       "4    Male   19            76000          0"
      ]
     },
     "execution_count": 2,
     "metadata": {},
     "output_type": "execute_result"
    }
   ],
   "source": [
    "data_set = pd.read_csv('Social_Network_Ads.csv')\n",
    "data_set.drop(['User ID'], axis=1, inplace=True)\n",
    "data_set.head()"
   ]
  },
  {
   "cell_type": "code",
   "execution_count": 3,
   "metadata": {},
   "outputs": [],
   "source": [
    "# sns.pairplot(data_set)"
   ]
  },
  {
   "cell_type": "code",
   "execution_count": 4,
   "metadata": {},
   "outputs": [],
   "source": [
    "data_set = pd.get_dummies(data_set, drop_first=True)"
   ]
  },
  {
   "cell_type": "code",
   "execution_count": 5,
   "metadata": {},
   "outputs": [],
   "source": [
    "from sklearn.model_selection import train_test_split\n",
    "\n",
    "train, test = train_test_split(data_set, train_size=0.9, random_state=1)\n",
    "train['source'] = 'train'\n",
    "test['source'] = 'test'\n",
    "raw = pd.concat([train, test], axis=0)"
   ]
  },
  {
   "cell_type": "code",
   "execution_count": 43,
   "metadata": {},
   "outputs": [],
   "source": [
    "train_x = raw[raw['source'] == 'train'].drop(['source', 'Purchased'], axis=1)\n",
    "train_y = raw[raw['source'] == 'train']['Purchased']\n",
    "\n",
    "test_x = raw[raw['source'] == 'test'].drop(['source', 'Purchased'], axis=1)\n",
    "test_y = raw[raw['source'] == 'test']['Purchased']"
   ]
  },
  {
   "cell_type": "code",
   "execution_count": null,
   "metadata": {},
   "outputs": [],
   "source": [
    "train_x.head()"
   ]
  },
  {
   "cell_type": "code",
   "execution_count": 44,
   "metadata": {},
   "outputs": [],
   "source": [
    "from sklearn.preprocessing import StandardScaler\n",
    "\n",
    "scaler = StandardScaler()\n",
    "scaler.fit(train_x)\n",
    "\n",
    "train_x = scaler.transform(train_x)\n",
    "test_x = scaler.transform(test_x)"
   ]
  },
  {
   "cell_type": "code",
   "execution_count": 51,
   "metadata": {},
   "outputs": [
    {
     "name": "stdout",
     "output_type": "stream",
     "text": [
      "Model: \"model_16\"\n",
      "_________________________________________________________________\n",
      " Layer (type)                Output Shape              Param #   \n",
      "=================================================================\n",
      " input_20 (InputLayer)       [(None, 3)]               0         \n",
      "                                                                 \n",
      " dense_33 (Dense)            (None, 1)                 4         \n",
      "                                                                 \n",
      "=================================================================\n",
      "Total params: 4\n",
      "Trainable params: 4\n",
      "Non-trainable params: 0\n",
      "_________________________________________________________________\n"
     ]
    }
   ],
   "source": [
    "import tensorflow as tf\n",
    "from tensorflow import keras\n",
    "\n",
    "inputs = keras.layers.Input(shape=3)\n",
    "outputs = keras.layers.Dense(1, activation=keras.activations.tanh)(inputs)\n",
    "model = keras.Model(inputs = inputs, outputs = outputs)\n",
    "model.compile(optimizer='adam', loss='binary_crossentropy', metrics=['accuracy'])\n",
    "model.summary()"
   ]
  },
  {
   "cell_type": "code",
   "execution_count": 52,
   "metadata": {},
   "outputs": [
    {
     "name": "stdout",
     "output_type": "stream",
     "text": [
      "Epoch 1/100\n",
      "6/6 [==============================] - 1s 29ms/step - loss: 0.9781 - accuracy: 0.2569 - val_loss: 1.0390 - val_accuracy: 0.2500\n",
      "Epoch 2/100\n",
      "6/6 [==============================] - 0s 8ms/step - loss: 0.9735 - accuracy: 0.2708 - val_loss: 1.0340 - val_accuracy: 0.2500\n",
      "Epoch 3/100\n",
      "6/6 [==============================] - 0s 7ms/step - loss: 0.9688 - accuracy: 0.2778 - val_loss: 1.0290 - val_accuracy: 0.2500\n",
      "Epoch 4/100\n",
      "6/6 [==============================] - 0s 7ms/step - loss: 0.9642 - accuracy: 0.2812 - val_loss: 1.0240 - val_accuracy: 0.2500\n",
      "Epoch 5/100\n",
      "6/6 [==============================] - 0s 8ms/step - loss: 0.9596 - accuracy: 0.2812 - val_loss: 1.0190 - val_accuracy: 0.2500\n",
      "Epoch 6/100\n",
      "6/6 [==============================] - 0s 7ms/step - loss: 0.9551 - accuracy: 0.2812 - val_loss: 1.0141 - val_accuracy: 0.2500\n",
      "Epoch 7/100\n",
      "6/6 [==============================] - 0s 8ms/step - loss: 0.9506 - accuracy: 0.2812 - val_loss: 1.0092 - val_accuracy: 0.2500\n",
      "Epoch 8/100\n",
      "6/6 [==============================] - 0s 8ms/step - loss: 0.9461 - accuracy: 0.2812 - val_loss: 1.0044 - val_accuracy: 0.2500\n",
      "Epoch 9/100\n",
      "6/6 [==============================] - 0s 8ms/step - loss: 0.9417 - accuracy: 0.2812 - val_loss: 0.9996 - val_accuracy: 0.2639\n",
      "Epoch 10/100\n",
      "6/6 [==============================] - 0s 8ms/step - loss: 0.9373 - accuracy: 0.2847 - val_loss: 0.9948 - val_accuracy: 0.2639\n",
      "Epoch 11/100\n",
      "6/6 [==============================] - 0s 8ms/step - loss: 0.9330 - accuracy: 0.2847 - val_loss: 0.9900 - val_accuracy: 0.2639\n",
      "Epoch 12/100\n",
      "6/6 [==============================] - 0s 8ms/step - loss: 0.9287 - accuracy: 0.2882 - val_loss: 0.9853 - val_accuracy: 0.2778\n",
      "Epoch 13/100\n",
      "6/6 [==============================] - 0s 7ms/step - loss: 0.9244 - accuracy: 0.2951 - val_loss: 0.9807 - val_accuracy: 0.2778\n",
      "Epoch 14/100\n",
      "6/6 [==============================] - 0s 7ms/step - loss: 0.9202 - accuracy: 0.3021 - val_loss: 0.9760 - val_accuracy: 0.2917\n",
      "Epoch 15/100\n",
      "6/6 [==============================] - 0s 8ms/step - loss: 0.9160 - accuracy: 0.3090 - val_loss: 0.9714 - val_accuracy: 0.3056\n",
      "Epoch 16/100\n",
      "6/6 [==============================] - 0s 7ms/step - loss: 0.9118 - accuracy: 0.3160 - val_loss: 0.9668 - val_accuracy: 0.3056\n",
      "Epoch 17/100\n",
      "6/6 [==============================] - 0s 8ms/step - loss: 0.9077 - accuracy: 0.3264 - val_loss: 0.9623 - val_accuracy: 0.3056\n",
      "Epoch 18/100\n",
      "6/6 [==============================] - 0s 8ms/step - loss: 0.9036 - accuracy: 0.3299 - val_loss: 0.9578 - val_accuracy: 0.3194\n",
      "Epoch 19/100\n",
      "6/6 [==============================] - 0s 6ms/step - loss: 0.8995 - accuracy: 0.3333 - val_loss: 0.9533 - val_accuracy: 0.3194\n",
      "Epoch 20/100\n",
      "6/6 [==============================] - 0s 6ms/step - loss: 0.8955 - accuracy: 0.3368 - val_loss: 0.9489 - val_accuracy: 0.3333\n",
      "Epoch 21/100\n",
      "6/6 [==============================] - 0s 6ms/step - loss: 0.8915 - accuracy: 0.3333 - val_loss: 0.9445 - val_accuracy: 0.3333\n",
      "Epoch 22/100\n",
      "6/6 [==============================] - 0s 6ms/step - loss: 0.8876 - accuracy: 0.3368 - val_loss: 0.9401 - val_accuracy: 0.3333\n",
      "Epoch 23/100\n",
      "6/6 [==============================] - 0s 7ms/step - loss: 0.8837 - accuracy: 0.3438 - val_loss: 0.9358 - val_accuracy: 0.3333\n",
      "Epoch 24/100\n",
      "6/6 [==============================] - 0s 8ms/step - loss: 0.8798 - accuracy: 0.3472 - val_loss: 0.9314 - val_accuracy: 0.3333\n",
      "Epoch 25/100\n",
      "6/6 [==============================] - 0s 6ms/step - loss: 0.8759 - accuracy: 0.3576 - val_loss: 0.9272 - val_accuracy: 0.3194\n",
      "Epoch 26/100\n",
      "6/6 [==============================] - 0s 6ms/step - loss: 0.8721 - accuracy: 0.3611 - val_loss: 0.9229 - val_accuracy: 0.3333\n",
      "Epoch 27/100\n",
      "6/6 [==============================] - 0s 8ms/step - loss: 0.8684 - accuracy: 0.3611 - val_loss: 0.9187 - val_accuracy: 0.3333\n",
      "Epoch 28/100\n",
      "6/6 [==============================] - 0s 6ms/step - loss: 0.8646 - accuracy: 0.3611 - val_loss: 0.9145 - val_accuracy: 0.3472\n",
      "Epoch 29/100\n",
      "6/6 [==============================] - 0s 7ms/step - loss: 0.8609 - accuracy: 0.3611 - val_loss: 0.9104 - val_accuracy: 0.3611\n",
      "Epoch 30/100\n",
      "6/6 [==============================] - 0s 6ms/step - loss: 0.8572 - accuracy: 0.3715 - val_loss: 0.9062 - val_accuracy: 0.3611\n",
      "Epoch 31/100\n",
      "6/6 [==============================] - 0s 7ms/step - loss: 0.8536 - accuracy: 0.3715 - val_loss: 0.9022 - val_accuracy: 0.3750\n",
      "Epoch 32/100\n",
      "6/6 [==============================] - 0s 7ms/step - loss: 0.8500 - accuracy: 0.3715 - val_loss: 0.8981 - val_accuracy: 0.3750\n",
      "Epoch 33/100\n",
      "6/6 [==============================] - 0s 5ms/step - loss: 0.8464 - accuracy: 0.3785 - val_loss: 0.8941 - val_accuracy: 0.3750\n",
      "Epoch 34/100\n",
      "6/6 [==============================] - 0s 6ms/step - loss: 0.8429 - accuracy: 0.3785 - val_loss: 0.8901 - val_accuracy: 0.3750\n",
      "Epoch 35/100\n",
      "6/6 [==============================] - 0s 7ms/step - loss: 0.8394 - accuracy: 0.3785 - val_loss: 0.8861 - val_accuracy: 0.3750\n",
      "Epoch 36/100\n",
      "6/6 [==============================] - 0s 7ms/step - loss: 0.8359 - accuracy: 0.3854 - val_loss: 0.8821 - val_accuracy: 0.3750\n",
      "Epoch 37/100\n",
      "6/6 [==============================] - 0s 7ms/step - loss: 0.8324 - accuracy: 0.3889 - val_loss: 0.8782 - val_accuracy: 0.3889\n",
      "Epoch 38/100\n",
      "6/6 [==============================] - 0s 6ms/step - loss: 0.8290 - accuracy: 0.3889 - val_loss: 0.8744 - val_accuracy: 0.3889\n",
      "Epoch 39/100\n",
      "6/6 [==============================] - 0s 6ms/step - loss: 0.8256 - accuracy: 0.4062 - val_loss: 0.8705 - val_accuracy: 0.4028\n",
      "Epoch 40/100\n",
      "6/6 [==============================] - 0s 7ms/step - loss: 0.8223 - accuracy: 0.4167 - val_loss: 0.8667 - val_accuracy: 0.4028\n",
      "Epoch 41/100\n",
      "6/6 [==============================] - 0s 6ms/step - loss: 0.8189 - accuracy: 0.4167 - val_loss: 0.8629 - val_accuracy: 0.4167\n",
      "Epoch 42/100\n",
      "6/6 [==============================] - 0s 6ms/step - loss: 0.8156 - accuracy: 0.4201 - val_loss: 0.8591 - val_accuracy: 0.4306\n",
      "Epoch 43/100\n",
      "6/6 [==============================] - 0s 7ms/step - loss: 0.8124 - accuracy: 0.4236 - val_loss: 0.8554 - val_accuracy: 0.4306\n",
      "Epoch 44/100\n",
      "6/6 [==============================] - 0s 7ms/step - loss: 0.8091 - accuracy: 0.4306 - val_loss: 0.8517 - val_accuracy: 0.4306\n",
      "Epoch 45/100\n",
      "6/6 [==============================] - 0s 7ms/step - loss: 0.8059 - accuracy: 0.4340 - val_loss: 0.8480 - val_accuracy: 0.4306\n",
      "Epoch 46/100\n",
      "6/6 [==============================] - 0s 6ms/step - loss: 0.8027 - accuracy: 0.4444 - val_loss: 0.8443 - val_accuracy: 0.4306\n",
      "Epoch 47/100\n",
      "6/6 [==============================] - 0s 6ms/step - loss: 0.7996 - accuracy: 0.4479 - val_loss: 0.8407 - val_accuracy: 0.4306\n",
      "Epoch 48/100\n",
      "6/6 [==============================] - 0s 5ms/step - loss: 0.7964 - accuracy: 0.4514 - val_loss: 0.8371 - val_accuracy: 0.4444\n",
      "Epoch 49/100\n",
      "6/6 [==============================] - 0s 7ms/step - loss: 0.7933 - accuracy: 0.4583 - val_loss: 0.8335 - val_accuracy: 0.4444\n",
      "Epoch 50/100\n",
      "6/6 [==============================] - 0s 7ms/step - loss: 0.7903 - accuracy: 0.4653 - val_loss: 0.8300 - val_accuracy: 0.4444\n",
      "Epoch 51/100\n",
      "6/6 [==============================] - 0s 7ms/step - loss: 0.7872 - accuracy: 0.4688 - val_loss: 0.8265 - val_accuracy: 0.4444\n",
      "Epoch 52/100\n",
      "6/6 [==============================] - 0s 6ms/step - loss: 0.7842 - accuracy: 0.4688 - val_loss: 0.8230 - val_accuracy: 0.4444\n",
      "Epoch 53/100\n",
      "6/6 [==============================] - 0s 6ms/step - loss: 0.7812 - accuracy: 0.4688 - val_loss: 0.8195 - val_accuracy: 0.4444\n",
      "Epoch 54/100\n",
      "6/6 [==============================] - 0s 6ms/step - loss: 0.7783 - accuracy: 0.4722 - val_loss: 0.8161 - val_accuracy: 0.4444\n",
      "Epoch 55/100\n",
      "6/6 [==============================] - 0s 6ms/step - loss: 0.7753 - accuracy: 0.4757 - val_loss: 0.8127 - val_accuracy: 0.4444\n",
      "Epoch 56/100\n",
      "6/6 [==============================] - 0s 6ms/step - loss: 0.7724 - accuracy: 0.4792 - val_loss: 0.8093 - val_accuracy: 0.4444\n",
      "Epoch 57/100\n",
      "6/6 [==============================] - 0s 7ms/step - loss: 0.7695 - accuracy: 0.4826 - val_loss: 0.8059 - val_accuracy: 0.4583\n",
      "Epoch 58/100\n",
      "6/6 [==============================] - 0s 6ms/step - loss: 0.7667 - accuracy: 0.4896 - val_loss: 0.8026 - val_accuracy: 0.4583\n",
      "Epoch 59/100\n",
      "6/6 [==============================] - 0s 6ms/step - loss: 0.7638 - accuracy: 0.4965 - val_loss: 0.7993 - val_accuracy: 0.4722\n",
      "Epoch 60/100\n",
      "6/6 [==============================] - 0s 7ms/step - loss: 0.7610 - accuracy: 0.5000 - val_loss: 0.7960 - val_accuracy: 0.4722\n",
      "Epoch 61/100\n",
      "6/6 [==============================] - 0s 7ms/step - loss: 0.7583 - accuracy: 0.5035 - val_loss: 0.7927 - val_accuracy: 0.4861\n",
      "Epoch 62/100\n",
      "6/6 [==============================] - 0s 6ms/step - loss: 0.7555 - accuracy: 0.5104 - val_loss: 0.7895 - val_accuracy: 0.4861\n",
      "Epoch 63/100\n",
      "6/6 [==============================] - 0s 7ms/step - loss: 0.7528 - accuracy: 0.5208 - val_loss: 0.7863 - val_accuracy: 0.4861\n",
      "Epoch 64/100\n",
      "6/6 [==============================] - 0s 7ms/step - loss: 0.7500 - accuracy: 0.5208 - val_loss: 0.7831 - val_accuracy: 0.4861\n",
      "Epoch 65/100\n",
      "6/6 [==============================] - 0s 7ms/step - loss: 0.7474 - accuracy: 0.5208 - val_loss: 0.7800 - val_accuracy: 0.4861\n",
      "Epoch 66/100\n",
      "6/6 [==============================] - 0s 7ms/step - loss: 0.7447 - accuracy: 0.5208 - val_loss: 0.7768 - val_accuracy: 0.4861\n",
      "Epoch 67/100\n",
      "6/6 [==============================] - 0s 6ms/step - loss: 0.7421 - accuracy: 0.5278 - val_loss: 0.7737 - val_accuracy: 0.4861\n",
      "Epoch 68/100\n",
      "6/6 [==============================] - 0s 7ms/step - loss: 0.7394 - accuracy: 0.5312 - val_loss: 0.7706 - val_accuracy: 0.4861\n",
      "Epoch 69/100\n",
      "6/6 [==============================] - 0s 7ms/step - loss: 0.7368 - accuracy: 0.5451 - val_loss: 0.7676 - val_accuracy: 0.5000\n",
      "Epoch 70/100\n",
      "6/6 [==============================] - 0s 6ms/step - loss: 0.7343 - accuracy: 0.5521 - val_loss: 0.7645 - val_accuracy: 0.5139\n",
      "Epoch 71/100\n",
      "6/6 [==============================] - 0s 9ms/step - loss: 0.7317 - accuracy: 0.5556 - val_loss: 0.7615 - val_accuracy: 0.5278\n",
      "Epoch 72/100\n",
      "6/6 [==============================] - 0s 10ms/step - loss: 0.7292 - accuracy: 0.5694 - val_loss: 0.7585 - val_accuracy: 0.5278\n",
      "Epoch 73/100\n",
      "6/6 [==============================] - 0s 7ms/step - loss: 0.7267 - accuracy: 0.5764 - val_loss: 0.7556 - val_accuracy: 0.5417\n",
      "Epoch 74/100\n",
      "6/6 [==============================] - 0s 6ms/step - loss: 0.7242 - accuracy: 0.5868 - val_loss: 0.7526 - val_accuracy: 0.5556\n",
      "Epoch 75/100\n",
      "6/6 [==============================] - 0s 8ms/step - loss: 0.7217 - accuracy: 0.5903 - val_loss: 0.7497 - val_accuracy: 0.5972\n",
      "Epoch 76/100\n",
      "6/6 [==============================] - 0s 7ms/step - loss: 0.7193 - accuracy: 0.5972 - val_loss: 0.7468 - val_accuracy: 0.6111\n",
      "Epoch 77/100\n",
      "6/6 [==============================] - 0s 7ms/step - loss: 0.7169 - accuracy: 0.6111 - val_loss: 0.7439 - val_accuracy: 0.6111\n",
      "Epoch 78/100\n",
      "6/6 [==============================] - 0s 6ms/step - loss: 0.7145 - accuracy: 0.6146 - val_loss: 0.7411 - val_accuracy: 0.6111\n",
      "Epoch 79/100\n",
      "6/6 [==============================] - 0s 7ms/step - loss: 0.7121 - accuracy: 0.6215 - val_loss: 0.7382 - val_accuracy: 0.6111\n",
      "Epoch 80/100\n",
      "6/6 [==============================] - 0s 6ms/step - loss: 0.7098 - accuracy: 0.6250 - val_loss: 0.7354 - val_accuracy: 0.6111\n",
      "Epoch 81/100\n",
      "6/6 [==============================] - 0s 7ms/step - loss: 0.7074 - accuracy: 0.6389 - val_loss: 0.7326 - val_accuracy: 0.6111\n",
      "Epoch 82/100\n",
      "6/6 [==============================] - 0s 7ms/step - loss: 0.7051 - accuracy: 0.6458 - val_loss: 0.7299 - val_accuracy: 0.6250\n",
      "Epoch 83/100\n",
      "6/6 [==============================] - 0s 6ms/step - loss: 0.7028 - accuracy: 0.6493 - val_loss: 0.7271 - val_accuracy: 0.6250\n",
      "Epoch 84/100\n",
      "6/6 [==============================] - 0s 6ms/step - loss: 0.7005 - accuracy: 0.6562 - val_loss: 0.7244 - val_accuracy: 0.6250\n",
      "Epoch 85/100\n",
      "6/6 [==============================] - 0s 7ms/step - loss: 0.6983 - accuracy: 0.6632 - val_loss: 0.7217 - val_accuracy: 0.6250\n",
      "Epoch 86/100\n",
      "6/6 [==============================] - 0s 8ms/step - loss: 0.6960 - accuracy: 0.6667 - val_loss: 0.7190 - val_accuracy: 0.6250\n",
      "Epoch 87/100\n",
      "6/6 [==============================] - 0s 7ms/step - loss: 0.6938 - accuracy: 0.6701 - val_loss: 0.7164 - val_accuracy: 0.6250\n",
      "Epoch 88/100\n",
      "6/6 [==============================] - 0s 8ms/step - loss: 0.6916 - accuracy: 0.6701 - val_loss: 0.7137 - val_accuracy: 0.6250\n",
      "Epoch 89/100\n",
      "6/6 [==============================] - 0s 7ms/step - loss: 0.6894 - accuracy: 0.6736 - val_loss: 0.7111 - val_accuracy: 0.6250\n",
      "Epoch 90/100\n",
      "6/6 [==============================] - 0s 7ms/step - loss: 0.6872 - accuracy: 0.6771 - val_loss: 0.7085 - val_accuracy: 0.6250\n",
      "Epoch 91/100\n",
      "6/6 [==============================] - 0s 7ms/step - loss: 0.6851 - accuracy: 0.6771 - val_loss: 0.7059 - val_accuracy: 0.6250\n",
      "Epoch 92/100\n",
      "6/6 [==============================] - 0s 8ms/step - loss: 0.6830 - accuracy: 0.6806 - val_loss: 0.7034 - val_accuracy: 0.6250\n",
      "Epoch 93/100\n",
      "6/6 [==============================] - 0s 8ms/step - loss: 0.6809 - accuracy: 0.6771 - val_loss: 0.7008 - val_accuracy: 0.6389\n",
      "Epoch 94/100\n",
      "6/6 [==============================] - 0s 6ms/step - loss: 0.6788 - accuracy: 0.6771 - val_loss: 0.6983 - val_accuracy: 0.6389\n",
      "Epoch 95/100\n",
      "6/6 [==============================] - 0s 7ms/step - loss: 0.6767 - accuracy: 0.6771 - val_loss: 0.6958 - val_accuracy: 0.6389\n",
      "Epoch 96/100\n",
      "6/6 [==============================] - 0s 7ms/step - loss: 0.6746 - accuracy: 0.6840 - val_loss: 0.6933 - val_accuracy: 0.6389\n",
      "Epoch 97/100\n",
      "6/6 [==============================] - 0s 7ms/step - loss: 0.6726 - accuracy: 0.6979 - val_loss: 0.6909 - val_accuracy: 0.6389\n",
      "Epoch 98/100\n",
      "6/6 [==============================] - 0s 7ms/step - loss: 0.6705 - accuracy: 0.6979 - val_loss: 0.6884 - val_accuracy: 0.6389\n",
      "Epoch 99/100\n",
      "6/6 [==============================] - 0s 7ms/step - loss: 0.6685 - accuracy: 0.6979 - val_loss: 0.6860 - val_accuracy: 0.6389\n",
      "Epoch 100/100\n",
      "6/6 [==============================] - 0s 8ms/step - loss: 0.6665 - accuracy: 0.6979 - val_loss: 0.6836 - val_accuracy: 0.6528\n"
     ]
    },
    {
     "data": {
      "text/plain": [
       "<keras.callbacks.History at 0x7f658dfd2620>"
      ]
     },
     "execution_count": 52,
     "metadata": {},
     "output_type": "execute_result"
    }
   ],
   "source": [
    "model.fit(train_x, train_y, epochs=100, batch_size=50, validation_split=0.2, shuffle=False)"
   ]
  },
  {
   "cell_type": "code",
   "execution_count": 53,
   "metadata": {},
   "outputs": [
    {
     "name": "stdout",
     "output_type": "stream",
     "text": [
      "2/2 [==============================] - 0s 2ms/step\n"
     ]
    },
    {
     "data": {
      "text/plain": [
       "<sklearn.metrics._plot.confusion_matrix.ConfusionMatrixDisplay at 0x7f658dfefa00>"
      ]
     },
     "execution_count": 53,
     "metadata": {},
     "output_type": "execute_result"
    },
    {
     "data": {
      "image/png": "[encoded data removed]",
      "text/plain": [
       "<Figure size 640x480 with 2 Axes>"
      ]
     },
     "metadata": {},
     "output_type": "display_data"
    }
   ],
   "source": [
    "from sklearn.metrics import ConfusionMatrixDisplay\n",
    "\n",
    "preds = model.predict(test_x)\n",
    "preds = np.where(preds >= 0.5, 1, 0)\n",
    "\n",
    "ConfusionMatrixDisplay.from_predictions(test_y, preds)"
   ]
  },
  {
   "cell_type": "code",
   "execution_count": null,
   "metadata": {},
   "outputs": [],
   "source": []
  },
  {
   "cell_type": "code",
   "execution_count": null,
   "metadata": {},
   "outputs": [],
   "source": []
  }
 ],
 "metadata": {
  "kernelspec": {
   "display_name": "Python 3.10.4 ('env': venv)",
   "language": "python",
   "name": "python3"
  },
  "language_info": {
   "codemirror_mode": {
    "name": "ipython",
    "version": 3
   },
   "file_extension": ".py",
   "mimetype": "text/x-python",
   "name": "python",
   "nbconvert_exporter": "python",
   "pygments_lexer": "ipython3",
   "version": "3.10.4"
  },
  "orig_nbformat": 4,
  "vscode": {
   "interpreter": {
    "hash": "c653b842baf4c2ae173c3df82cfaef47c6d4e407a38bc3131eaa728561ebe308"
   }
  }
 },
 "nbformat": 4,
 "nbformat_minor": 2
}
