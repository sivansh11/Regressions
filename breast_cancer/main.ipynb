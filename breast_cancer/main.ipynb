{
 "cells": [
  {
   "cell_type": "code",
   "execution_count": 1,
   "metadata": {},
   "outputs": [],
   "source": [
    "import pandas as pd"
   ]
  },
  {
   "cell_type": "code",
   "execution_count": 2,
   "metadata": {},
   "outputs": [],
   "source": [
    "from sklearn.datasets import load_breast_cancer\n",
    "cancer = load_breast_cancer()\n",
    "df = pd.DataFrame(cancer.data, columns=cancer.feature_names)"
   ]
  },
  {
   "cell_type": "code",
   "execution_count": 3,
   "metadata": {},
   "outputs": [
    {
     "data": {
      "text/html": [
       "<div>\n",
       "<style scoped>\n",
       "    .dataframe tbody tr th:only-of-type {\n",
       "        vertical-align: middle;\n",
       "    }\n",
       "\n",
       "    .dataframe tbody tr th {\n",
       "        vertical-align: top;\n",
       "    }\n",
       "\n",
       "    .dataframe thead th {\n",
       "        text-align: right;\n",
       "    }\n",
       "</style>\n",
       "<table border=\"1\" class=\"dataframe\">\n",
       "  <thead>\n",
       "    <tr style=\"text-align: right;\">\n",
       "      <th></th>\n",
       "      <th>mean radius</th>\n",
       "      <th>mean texture</th>\n",
       "      <th>mean perimeter</th>\n",
       "      <th>mean area</th>\n",
       "      <th>mean smoothness</th>\n",
       "      <th>mean compactness</th>\n",
       "      <th>mean concavity</th>\n",
       "      <th>mean concave points</th>\n",
       "      <th>mean symmetry</th>\n",
       "      <th>mean fractal dimension</th>\n",
       "      <th>...</th>\n",
       "      <th>worst radius</th>\n",
       "      <th>worst texture</th>\n",
       "      <th>worst perimeter</th>\n",
       "      <th>worst area</th>\n",
       "      <th>worst smoothness</th>\n",
       "      <th>worst compactness</th>\n",
       "      <th>worst concavity</th>\n",
       "      <th>worst concave points</th>\n",
       "      <th>worst symmetry</th>\n",
       "      <th>worst fractal dimension</th>\n",
       "    </tr>\n",
       "  </thead>\n",
       "  <tbody>\n",
       "    <tr>\n",
       "      <th>0</th>\n",
       "      <td>17.99</td>\n",
       "      <td>10.38</td>\n",
       "      <td>122.80</td>\n",
       "      <td>1001.0</td>\n",
       "      <td>0.11840</td>\n",
       "      <td>0.27760</td>\n",
       "      <td>0.3001</td>\n",
       "      <td>0.14710</td>\n",
       "      <td>0.2419</td>\n",
       "      <td>0.07871</td>\n",
       "      <td>...</td>\n",
       "      <td>25.38</td>\n",
       "      <td>17.33</td>\n",
       "      <td>184.60</td>\n",
       "      <td>2019.0</td>\n",
       "      <td>0.1622</td>\n",
       "      <td>0.6656</td>\n",
       "      <td>0.7119</td>\n",
       "      <td>0.2654</td>\n",
       "      <td>0.4601</td>\n",
       "      <td>0.11890</td>\n",
       "    </tr>\n",
       "    <tr>\n",
       "      <th>1</th>\n",
       "      <td>20.57</td>\n",
       "      <td>17.77</td>\n",
       "      <td>132.90</td>\n",
       "      <td>1326.0</td>\n",
       "      <td>0.08474</td>\n",
       "      <td>0.07864</td>\n",
       "      <td>0.0869</td>\n",
       "      <td>0.07017</td>\n",
       "      <td>0.1812</td>\n",
       "      <td>0.05667</td>\n",
       "      <td>...</td>\n",
       "      <td>24.99</td>\n",
       "      <td>23.41</td>\n",
       "      <td>158.80</td>\n",
       "      <td>1956.0</td>\n",
       "      <td>0.1238</td>\n",
       "      <td>0.1866</td>\n",
       "      <td>0.2416</td>\n",
       "      <td>0.1860</td>\n",
       "      <td>0.2750</td>\n",
       "      <td>0.08902</td>\n",
       "    </tr>\n",
       "    <tr>\n",
       "      <th>2</th>\n",
       "      <td>19.69</td>\n",
       "      <td>21.25</td>\n",
       "      <td>130.00</td>\n",
       "      <td>1203.0</td>\n",
       "      <td>0.10960</td>\n",
       "      <td>0.15990</td>\n",
       "      <td>0.1974</td>\n",
       "      <td>0.12790</td>\n",
       "      <td>0.2069</td>\n",
       "      <td>0.05999</td>\n",
       "      <td>...</td>\n",
       "      <td>23.57</td>\n",
       "      <td>25.53</td>\n",
       "      <td>152.50</td>\n",
       "      <td>1709.0</td>\n",
       "      <td>0.1444</td>\n",
       "      <td>0.4245</td>\n",
       "      <td>0.4504</td>\n",
       "      <td>0.2430</td>\n",
       "      <td>0.3613</td>\n",
       "      <td>0.08758</td>\n",
       "    </tr>\n",
       "    <tr>\n",
       "      <th>3</th>\n",
       "      <td>11.42</td>\n",
       "      <td>20.38</td>\n",
       "      <td>77.58</td>\n",
       "      <td>386.1</td>\n",
       "      <td>0.14250</td>\n",
       "      <td>0.28390</td>\n",
       "      <td>0.2414</td>\n",
       "      <td>0.10520</td>\n",
       "      <td>0.2597</td>\n",
       "      <td>0.09744</td>\n",
       "      <td>...</td>\n",
       "      <td>14.91</td>\n",
       "      <td>26.50</td>\n",
       "      <td>98.87</td>\n",
       "      <td>567.7</td>\n",
       "      <td>0.2098</td>\n",
       "      <td>0.8663</td>\n",
       "      <td>0.6869</td>\n",
       "      <td>0.2575</td>\n",
       "      <td>0.6638</td>\n",
       "      <td>0.17300</td>\n",
       "    </tr>\n",
       "    <tr>\n",
       "      <th>4</th>\n",
       "      <td>20.29</td>\n",
       "      <td>14.34</td>\n",
       "      <td>135.10</td>\n",
       "      <td>1297.0</td>\n",
       "      <td>0.10030</td>\n",
       "      <td>0.13280</td>\n",
       "      <td>0.1980</td>\n",
       "      <td>0.10430</td>\n",
       "      <td>0.1809</td>\n",
       "      <td>0.05883</td>\n",
       "      <td>...</td>\n",
       "      <td>22.54</td>\n",
       "      <td>16.67</td>\n",
       "      <td>152.20</td>\n",
       "      <td>1575.0</td>\n",
       "      <td>0.1374</td>\n",
       "      <td>0.2050</td>\n",
       "      <td>0.4000</td>\n",
       "      <td>0.1625</td>\n",
       "      <td>0.2364</td>\n",
       "      <td>0.07678</td>\n",
       "    </tr>\n",
       "  </tbody>\n",
       "</table>\n",
       "<p>5 rows × 30 columns</p>\n",
       "</div>"
      ],
      "text/plain": [
       "   mean radius  mean texture  mean perimeter  mean area  mean smoothness  \\\n",
       "0        17.99         10.38          122.80     1001.0          0.11840   \n",
       "1        20.57         17.77          132.90     1326.0          0.08474   \n",
       "2        19.69         21.25          130.00     1203.0          0.10960   \n",
       "3        11.42         20.38           77.58      386.1          0.14250   \n",
       "4        20.29         14.34          135.10     1297.0          0.10030   \n",
       "\n",
       "   mean compactness  mean concavity  mean concave points  mean symmetry  \\\n",
       "0           0.27760          0.3001              0.14710         0.2419   \n",
       "1           0.07864          0.0869              0.07017         0.1812   \n",
       "2           0.15990          0.1974              0.12790         0.2069   \n",
       "3           0.28390          0.2414              0.10520         0.2597   \n",
       "4           0.13280          0.1980              0.10430         0.1809   \n",
       "\n",
       "   mean fractal dimension  ...  worst radius  worst texture  worst perimeter  \\\n",
       "0                 0.07871  ...         25.38          17.33           184.60   \n",
       "1                 0.05667  ...         24.99          23.41           158.80   \n",
       "2                 0.05999  ...         23.57          25.53           152.50   \n",
       "3                 0.09744  ...         14.91          26.50            98.87   \n",
       "4                 0.05883  ...         22.54          16.67           152.20   \n",
       "\n",
       "   worst area  worst smoothness  worst compactness  worst concavity  \\\n",
       "0      2019.0            0.1622             0.6656           0.7119   \n",
       "1      1956.0            0.1238             0.1866           0.2416   \n",
       "2      1709.0            0.1444             0.4245           0.4504   \n",
       "3       567.7            0.2098             0.8663           0.6869   \n",
       "4      1575.0            0.1374             0.2050           0.4000   \n",
       "\n",
       "   worst concave points  worst symmetry  worst fractal dimension  \n",
       "0                0.2654          0.4601                  0.11890  \n",
       "1                0.1860          0.2750                  0.08902  \n",
       "2                0.2430          0.3613                  0.08758  \n",
       "3                0.2575          0.6638                  0.17300  \n",
       "4                0.1625          0.2364                  0.07678  \n",
       "\n",
       "[5 rows x 30 columns]"
      ]
     },
     "execution_count": 3,
     "metadata": {},
     "output_type": "execute_result"
    }
   ],
   "source": [
    "df.head()"
   ]
  },
  {
   "cell_type": "code",
   "execution_count": 4,
   "metadata": {},
   "outputs": [
    {
     "data": {
      "text/plain": [
       "0"
      ]
     },
     "execution_count": 4,
     "metadata": {},
     "output_type": "execute_result"
    }
   ],
   "source": [
    "df.isnull().sum().sum()"
   ]
  },
  {
   "cell_type": "code",
   "execution_count": 5,
   "metadata": {},
   "outputs": [],
   "source": [
    "X = df\n",
    "y = pd.Series(cancer.target)"
   ]
  },
  {
   "cell_type": "code",
   "execution_count": 6,
   "metadata": {},
   "outputs": [],
   "source": [
    "from sklearn.model_selection import train_test_split\n",
    "X_train, X_test, y_train, y_test = train_test_split(X, y, test_size=0.20, \n",
    "                                                    shuffle=True, random_state=2)"
   ]
  },
  {
   "cell_type": "code",
   "execution_count": 7,
   "metadata": {},
   "outputs": [
    {
     "data": {
      "text/html": [
       "<style>#sk-container-id-1 {color: black;background-color: white;}#sk-container-id-1 pre{padding: 0;}#sk-container-id-1 div.sk-toggleable {background-color: white;}#sk-container-id-1 label.sk-toggleable__label {cursor: pointer;display: block;width: 100%;margin-bottom: 0;padding: 0.3em;box-sizing: border-box;text-align: center;}#sk-container-id-1 label.sk-toggleable__label-arrow:before {content: \"▸\";float: left;margin-right: 0.25em;color: #696969;}#sk-container-id-1 label.sk-toggleable__label-arrow:hover:before {color: black;}#sk-container-id-1 div.sk-estimator:hover label.sk-toggleable__label-arrow:before {color: black;}#sk-container-id-1 div.sk-toggleable__content {max-height: 0;max-width: 0;overflow: hidden;text-align: left;background-color: #f0f8ff;}#sk-container-id-1 div.sk-toggleable__content pre {margin: 0.2em;color: black;border-radius: 0.25em;background-color: #f0f8ff;}#sk-container-id-1 input.sk-toggleable__control:checked~div.sk-toggleable__content {max-height: 200px;max-width: 100%;overflow: auto;}#sk-container-id-1 input.sk-toggleable__control:checked~label.sk-toggleable__label-arrow:before {content: \"▾\";}#sk-container-id-1 div.sk-estimator input.sk-toggleable__control:checked~label.sk-toggleable__label {background-color: #d4ebff;}#sk-container-id-1 div.sk-label input.sk-toggleable__control:checked~label.sk-toggleable__label {background-color: #d4ebff;}#sk-container-id-1 input.sk-hidden--visually {border: 0;clip: rect(1px 1px 1px 1px);clip: rect(1px, 1px, 1px, 1px);height: 1px;margin: -1px;overflow: hidden;padding: 0;position: absolute;width: 1px;}#sk-container-id-1 div.sk-estimator {font-family: monospace;background-color: #f0f8ff;border: 1px dotted black;border-radius: 0.25em;box-sizing: border-box;margin-bottom: 0.5em;}#sk-container-id-1 div.sk-estimator:hover {background-color: #d4ebff;}#sk-container-id-1 div.sk-parallel-item::after {content: \"\";width: 100%;border-bottom: 1px solid gray;flex-grow: 1;}#sk-container-id-1 div.sk-label:hover label.sk-toggleable__label {background-color: #d4ebff;}#sk-container-id-1 div.sk-serial::before {content: \"\";position: absolute;border-left: 1px solid gray;box-sizing: border-box;top: 0;bottom: 0;left: 50%;z-index: 0;}#sk-container-id-1 div.sk-serial {display: flex;flex-direction: column;align-items: center;background-color: white;padding-right: 0.2em;padding-left: 0.2em;position: relative;}#sk-container-id-1 div.sk-item {position: relative;z-index: 1;}#sk-container-id-1 div.sk-parallel {display: flex;align-items: stretch;justify-content: center;background-color: white;position: relative;}#sk-container-id-1 div.sk-item::before, #sk-container-id-1 div.sk-parallel-item::before {content: \"\";position: absolute;border-left: 1px solid gray;box-sizing: border-box;top: 0;bottom: 0;left: 50%;z-index: -1;}#sk-container-id-1 div.sk-parallel-item {display: flex;flex-direction: column;z-index: 1;position: relative;background-color: white;}#sk-container-id-1 div.sk-parallel-item:first-child::after {align-self: flex-end;width: 50%;}#sk-container-id-1 div.sk-parallel-item:last-child::after {align-self: flex-start;width: 50%;}#sk-container-id-1 div.sk-parallel-item:only-child::after {width: 0;}#sk-container-id-1 div.sk-dashed-wrapped {border: 1px dashed gray;margin: 0 0.4em 0.5em 0.4em;box-sizing: border-box;padding-bottom: 0.4em;background-color: white;}#sk-container-id-1 div.sk-label label {font-family: monospace;font-weight: bold;display: inline-block;line-height: 1.2em;}#sk-container-id-1 div.sk-label-container {text-align: center;}#sk-container-id-1 div.sk-container {/* jupyter's `normalize.less` sets `[hidden] { display: none; }` but bootstrap.min.css set `[hidden] { display: none !important; }` so we also need the `!important` here to be able to override the default hidden behavior on the sphinx rendered scikit-learn.org. See: https://github.com/scikit-learn/scikit-learn/issues/21755 */display: inline-block !important;position: relative;}#sk-container-id-1 div.sk-text-repr-fallback {display: none;}</style><div id=\"sk-container-id-1\" class=\"sk-top-container\"><div class=\"sk-text-repr-fallback\"><pre>LogisticRegression(max_iter=2500, random_state=42)</pre><b>In a Jupyter environment, please rerun this cell to show the HTML representation or trust the notebook. <br />On GitHub, the HTML representation is unable to render, please try loading this page with nbviewer.org.</b></div><div class=\"sk-container\" hidden><div class=\"sk-item\"><div class=\"sk-estimator sk-toggleable\"><input class=\"sk-toggleable__control sk-hidden--visually\" id=\"sk-estimator-id-1\" type=\"checkbox\" checked><label for=\"sk-estimator-id-1\" class=\"sk-toggleable__label sk-toggleable__label-arrow\">LogisticRegression</label><div class=\"sk-toggleable__content\"><pre>LogisticRegression(max_iter=2500, random_state=42)</pre></div></div></div></div></div>"
      ],
      "text/plain": [
       "LogisticRegression(max_iter=2500, random_state=42)"
      ]
     },
     "execution_count": 7,
     "metadata": {},
     "output_type": "execute_result"
    }
   ],
   "source": [
    "from sklearn.linear_model import LogisticRegression\n",
    "log_reg_model = LogisticRegression(max_iter= 2500, random_state=42)\n",
    "log_reg_model.fit(X_train, y_train)"
   ]
  },
  {
   "cell_type": "code",
   "execution_count": 8,
   "metadata": {},
   "outputs": [],
   "source": [
    "y_pred = log_reg_model.predict(X_test)\n",
    "y_true = y_test"
   ]
  },
  {
   "cell_type": "code",
   "execution_count": 9,
   "metadata": {},
   "outputs": [
    {
     "name": "stdout",
     "output_type": "stream",
     "text": [
      "Accuracy: 0.93\n",
      "Precision: 0.94\n",
      "Recall: 0.94\n",
      "F-Score: 0.94\n"
     ]
    }
   ],
   "source": [
    "from sklearn.metrics import accuracy_score\n",
    "from sklearn.metrics import precision_recall_fscore_support\n",
    "import numpy as np\n",
    "\n",
    "print(\"Accuracy:\", np.round(accuracy_score(y_true, y_pred), 2))\n",
    "precision, recall, fscore, _ = precision_recall_fscore_support(y_true, y_pred,\n",
    "                                                               average='binary')\n",
    "print(\"Precision:\", np.round(precision, 2))\n",
    "print(\"Recall:\", np.round(recall, 2))\n",
    "print(\"F-Score:\", np.round(fscore, 2))"
   ]
  },
  {
   "cell_type": "code",
   "execution_count": 10,
   "metadata": {},
   "outputs": [
    {
     "data": {
      "text/plain": [
       "<sklearn.metrics._plot.confusion_matrix.ConfusionMatrixDisplay at 0x22e5649ec80>"
      ]
     },
     "execution_count": 10,
     "metadata": {},
     "output_type": "execute_result"
    },
    {
     "data": {
      "image/png": "[encoded data removed]",
      "text/plain": [
       "<Figure size 640x480 with 2 Axes>"
      ]
     },
     "metadata": {},
     "output_type": "display_data"
    }
   ],
   "source": [
    "from sklearn.metrics import ConfusionMatrixDisplay\n",
    "\n",
    "ConfusionMatrixDisplay.from_predictions(y_true, y_pred)"
   ]
  },
  {
   "cell_type": "code",
   "execution_count": 24,
   "metadata": {},
   "outputs": [],
   "source": [
    "from tensorflow import keras \n",
    "\n",
    "inputs = keras.Input(X_train.shape[1])\n",
    "outputs = keras.layers.Dense(1, activation=keras.activations.sigmoid)(inputs)\n",
    "model = keras.Model(inputs, outputs)\n",
    "model.compile(optimizer=keras.optimizers.Adam(learning_rate=0.01), loss=keras.losses.BinaryCrossentropy(), metrics=[keras.metrics.BinaryAccuracy()])"
   ]
  },
  {
   "cell_type": "code",
   "execution_count": 25,
   "metadata": {},
   "outputs": [
    {
     "name": "stdout",
     "output_type": "stream",
     "text": [
      "Epoch 1/50\n",
      "12/12 [==============================] - 1s 23ms/step - loss: 68.6799 - binary_accuracy: 0.5907 - val_loss: 13.5642 - val_binary_accuracy: 0.2418\n",
      "Epoch 2/50\n",
      "12/12 [==============================] - 0s 6ms/step - loss: 25.7675 - binary_accuracy: 0.3407 - val_loss: 18.2283 - val_binary_accuracy: 0.3407\n",
      "Epoch 3/50\n",
      "12/12 [==============================] - 0s 7ms/step - loss: 13.0520 - binary_accuracy: 0.3489 - val_loss: 7.9734 - val_binary_accuracy: 0.3626\n",
      "Epoch 4/50\n",
      "12/12 [==============================] - 0s 6ms/step - loss: 9.3379 - binary_accuracy: 0.2500 - val_loss: 6.0149 - val_binary_accuracy: 0.5275\n",
      "Epoch 5/50\n",
      "12/12 [==============================] - 0s 7ms/step - loss: 7.5047 - binary_accuracy: 0.3846 - val_loss: 4.9969 - val_binary_accuracy: 0.3407\n",
      "Epoch 6/50\n",
      "12/12 [==============================] - 0s 8ms/step - loss: 4.3554 - binary_accuracy: 0.4753 - val_loss: 3.1975 - val_binary_accuracy: 0.5714\n",
      "Epoch 7/50\n",
      "12/12 [==============================] - 0s 6ms/step - loss: 3.0653 - binary_accuracy: 0.5714 - val_loss: 2.4083 - val_binary_accuracy: 0.6593\n",
      "Epoch 8/50\n",
      "12/12 [==============================] - 0s 5ms/step - loss: 2.3837 - binary_accuracy: 0.6401 - val_loss: 1.8793 - val_binary_accuracy: 0.6923\n",
      "Epoch 9/50\n",
      "12/12 [==============================] - 0s 7ms/step - loss: 1.8657 - binary_accuracy: 0.6896 - val_loss: 1.5765 - val_binary_accuracy: 0.7253\n",
      "Epoch 10/50\n",
      "12/12 [==============================] - 0s 6ms/step - loss: 1.5782 - binary_accuracy: 0.7610 - val_loss: 1.3719 - val_binary_accuracy: 0.7253\n",
      "Epoch 11/50\n",
      "12/12 [==============================] - 0s 6ms/step - loss: 1.4500 - binary_accuracy: 0.7775 - val_loss: 1.2332 - val_binary_accuracy: 0.7692\n",
      "Epoch 12/50\n",
      "12/12 [==============================] - 0s 6ms/step - loss: 1.3633 - binary_accuracy: 0.7967 - val_loss: 1.1181 - val_binary_accuracy: 0.7802\n",
      "Epoch 13/50\n",
      "12/12 [==============================] - 0s 5ms/step - loss: 1.2874 - binary_accuracy: 0.8049 - val_loss: 1.0137 - val_binary_accuracy: 0.7802\n",
      "Epoch 14/50\n",
      "12/12 [==============================] - 0s 6ms/step - loss: 1.2129 - binary_accuracy: 0.8187 - val_loss: 0.9253 - val_binary_accuracy: 0.8022\n",
      "Epoch 15/50\n",
      "12/12 [==============================] - 0s 6ms/step - loss: 1.1449 - binary_accuracy: 0.8214 - val_loss: 0.8493 - val_binary_accuracy: 0.8132\n",
      "Epoch 16/50\n",
      "12/12 [==============================] - 0s 6ms/step - loss: 1.0842 - binary_accuracy: 0.8214 - val_loss: 0.7795 - val_binary_accuracy: 0.8242\n",
      "Epoch 17/50\n",
      "12/12 [==============================] - 0s 6ms/step - loss: 1.0244 - binary_accuracy: 0.8297 - val_loss: 0.7130 - val_binary_accuracy: 0.8242\n",
      "Epoch 18/50\n",
      "12/12 [==============================] - 0s 6ms/step - loss: 0.9639 - binary_accuracy: 0.8297 - val_loss: 0.6505 - val_binary_accuracy: 0.8352\n",
      "Epoch 19/50\n",
      "12/12 [==============================] - 0s 6ms/step - loss: 0.9041 - binary_accuracy: 0.8297 - val_loss: 0.5926 - val_binary_accuracy: 0.8462\n",
      "Epoch 20/50\n",
      "12/12 [==============================] - 0s 6ms/step - loss: 0.8457 - binary_accuracy: 0.8352 - val_loss: 0.5391 - val_binary_accuracy: 0.8571\n",
      "Epoch 21/50\n",
      "12/12 [==============================] - 0s 6ms/step - loss: 0.7886 - binary_accuracy: 0.8462 - val_loss: 0.4904 - val_binary_accuracy: 0.8791\n",
      "Epoch 22/50\n",
      "12/12 [==============================] - 0s 6ms/step - loss: 0.7336 - binary_accuracy: 0.8489 - val_loss: 0.4479 - val_binary_accuracy: 0.8791\n",
      "Epoch 23/50\n",
      "12/12 [==============================] - 0s 6ms/step - loss: 0.6829 - binary_accuracy: 0.8571 - val_loss: 0.4123 - val_binary_accuracy: 0.8791\n",
      "Epoch 24/50\n",
      "12/12 [==============================] - 0s 6ms/step - loss: 0.6390 - binary_accuracy: 0.8709 - val_loss: 0.3813 - val_binary_accuracy: 0.8791\n",
      "Epoch 25/50\n",
      "12/12 [==============================] - 0s 5ms/step - loss: 0.6035 - binary_accuracy: 0.8709 - val_loss: 0.3531 - val_binary_accuracy: 0.8791\n",
      "Epoch 26/50\n",
      "12/12 [==============================] - 0s 5ms/step - loss: 0.5752 - binary_accuracy: 0.8736 - val_loss: 0.3265 - val_binary_accuracy: 0.8901\n",
      "Epoch 27/50\n",
      "12/12 [==============================] - 0s 6ms/step - loss: 0.5514 - binary_accuracy: 0.8736 - val_loss: 0.3003 - val_binary_accuracy: 0.9011\n",
      "Epoch 28/50\n",
      "12/12 [==============================] - 0s 5ms/step - loss: 0.5294 - binary_accuracy: 0.8764 - val_loss: 0.2748 - val_binary_accuracy: 0.9011\n",
      "Epoch 29/50\n",
      "12/12 [==============================] - 0s 5ms/step - loss: 0.5076 - binary_accuracy: 0.8791 - val_loss: 0.2517 - val_binary_accuracy: 0.9011\n",
      "Epoch 30/50\n",
      "12/12 [==============================] - 0s 6ms/step - loss: 0.4865 - binary_accuracy: 0.8819 - val_loss: 0.2326 - val_binary_accuracy: 0.9011\n",
      "Epoch 31/50\n",
      "12/12 [==============================] - 0s 5ms/step - loss: 0.4686 - binary_accuracy: 0.8764 - val_loss: 0.2181 - val_binary_accuracy: 0.9121\n",
      "Epoch 32/50\n",
      "12/12 [==============================] - 0s 6ms/step - loss: 0.4570 - binary_accuracy: 0.8736 - val_loss: 0.2074 - val_binary_accuracy: 0.9231\n",
      "Epoch 33/50\n",
      "12/12 [==============================] - 0s 5ms/step - loss: 0.4536 - binary_accuracy: 0.8736 - val_loss: 0.1996 - val_binary_accuracy: 0.9341\n",
      "Epoch 34/50\n",
      "12/12 [==============================] - 0s 6ms/step - loss: 0.4592 - binary_accuracy: 0.8764 - val_loss: 0.1937 - val_binary_accuracy: 0.9451\n",
      "Epoch 35/50\n",
      "12/12 [==============================] - 0s 6ms/step - loss: 0.4724 - binary_accuracy: 0.8791 - val_loss: 0.1883 - val_binary_accuracy: 0.9451\n",
      "Epoch 36/50\n",
      "12/12 [==============================] - 0s 6ms/step - loss: 0.4884 - binary_accuracy: 0.8709 - val_loss: 0.1823 - val_binary_accuracy: 0.9451\n",
      "Epoch 37/50\n",
      "12/12 [==============================] - 0s 6ms/step - loss: 0.5021 - binary_accuracy: 0.8626 - val_loss: 0.1749 - val_binary_accuracy: 0.9451\n",
      "Epoch 38/50\n",
      "12/12 [==============================] - 0s 6ms/step - loss: 0.5110 - binary_accuracy: 0.8599 - val_loss: 0.1663 - val_binary_accuracy: 0.9451\n",
      "Epoch 39/50\n",
      "12/12 [==============================] - 0s 6ms/step - loss: 0.5148 - binary_accuracy: 0.8571 - val_loss: 0.1575 - val_binary_accuracy: 0.9451\n",
      "Epoch 40/50\n",
      "12/12 [==============================] - 0s 5ms/step - loss: 0.5151 - binary_accuracy: 0.8599 - val_loss: 0.1487 - val_binary_accuracy: 0.9451\n",
      "Epoch 41/50\n",
      "12/12 [==============================] - 0s 6ms/step - loss: 0.5137 - binary_accuracy: 0.8544 - val_loss: 0.1400 - val_binary_accuracy: 0.9451\n",
      "Epoch 42/50\n",
      "12/12 [==============================] - 0s 6ms/step - loss: 0.5122 - binary_accuracy: 0.8599 - val_loss: 0.1306 - val_binary_accuracy: 0.9451\n",
      "Epoch 43/50\n",
      "12/12 [==============================] - 0s 6ms/step - loss: 0.5114 - binary_accuracy: 0.8626 - val_loss: 0.1201 - val_binary_accuracy: 0.9451\n",
      "Epoch 44/50\n",
      "12/12 [==============================] - 0s 6ms/step - loss: 0.5110 - binary_accuracy: 0.8654 - val_loss: 0.1087 - val_binary_accuracy: 0.9560\n",
      "Epoch 45/50\n",
      "12/12 [==============================] - 0s 6ms/step - loss: 0.5096 - binary_accuracy: 0.8764 - val_loss: 0.0983 - val_binary_accuracy: 0.9560\n",
      "Epoch 46/50\n",
      "12/12 [==============================] - 0s 6ms/step - loss: 0.5043 - binary_accuracy: 0.8791 - val_loss: 0.0911 - val_binary_accuracy: 0.9560\n",
      "Epoch 47/50\n",
      "12/12 [==============================] - 0s 6ms/step - loss: 0.4931 - binary_accuracy: 0.8819 - val_loss: 0.0874 - val_binary_accuracy: 0.9560\n",
      "Epoch 48/50\n",
      "12/12 [==============================] - 0s 6ms/step - loss: 0.4767 - binary_accuracy: 0.8846 - val_loss: 0.0857 - val_binary_accuracy: 0.9560\n",
      "Epoch 49/50\n",
      "12/12 [==============================] - 0s 6ms/step - loss: 0.4596 - binary_accuracy: 0.8846 - val_loss: 0.0845 - val_binary_accuracy: 0.9560\n",
      "Epoch 50/50\n",
      "12/12 [==============================] - 0s 5ms/step - loss: 0.4464 - binary_accuracy: 0.8846 - val_loss: 0.0831 - val_binary_accuracy: 0.9560\n"
     ]
    }
   ],
   "source": [
    "history = model.fit(X_train, y_train, epochs=50, batch_size=32, validation_split=0.2, shuffle=False)"
   ]
  },
  {
   "cell_type": "code",
   "execution_count": 20,
   "metadata": {},
   "outputs": [
    {
     "data": {
      "text/plain": [
       "<matplotlib.legend.Legend at 0x22e0121d510>"
      ]
     },
     "execution_count": 20,
     "metadata": {},
     "output_type": "execute_result"
    },
    {
     "data": {
      "image/png": "[encoded data removed]",
      "text/plain": [
       "<Figure size 640x480 with 1 Axes>"
      ]
     },
     "metadata": {},
     "output_type": "display_data"
    }
   ],
   "source": [
    "import matplotlib.pyplot as plt\n",
    "\n",
    "plt.plot(history.history['binary_accuracy'], label='Train')\n",
    "plt.plot(history.history['val_binary_accuracy'], label='Validation')\n",
    "plt.ylabel('binary_accuracy')\n",
    "plt.xlabel('Epoch')\n",
    "plt.title('Model Accuracy')\n",
    "plt.legend(loc='upper left')"
   ]
  },
  {
   "cell_type": "code",
   "execution_count": 21,
   "metadata": {},
   "outputs": [
    {
     "data": {
      "text/plain": [
       "<matplotlib.legend.Legend at 0x22e02dae020>"
      ]
     },
     "execution_count": 21,
     "metadata": {},
     "output_type": "execute_result"
    },
    {
     "data": {
      "image/png": "[encoded data removed]",
      "text/plain": [
       "<Figure size 640x480 with 1 Axes>"
      ]
     },
     "metadata": {},
     "output_type": "display_data"
    }
   ],
   "source": [
    "plt.plot(history.history['loss'], label='Train')\n",
    "plt.plot(history.history['val_binary_accuracy'], label='Validation')\n",
    "plt.ylabel('Loss')\n",
    "plt.xlabel('Epoch')\n",
    "plt.title('Model Loss')\n",
    "plt.legend(loc='upper right')"
   ]
  },
  {
   "cell_type": "code",
   "execution_count": null,
   "metadata": {},
   "outputs": [],
   "source": []
  },
  {
   "cell_type": "code",
   "execution_count": null,
   "metadata": {},
   "outputs": [],
   "source": []
  }
 ],
 "metadata": {
  "kernelspec": {
   "display_name": "Python 3.10.5 ('env': venv)",
   "language": "python",
   "name": "python3"
  },
  "language_info": {
   "codemirror_mode": {
    "name": "ipython",
    "version": 3
   },
   "file_extension": ".py",
   "mimetype": "text/x-python",
   "name": "python",
   "nbconvert_exporter": "python",
   "pygments_lexer": "ipython3",
   "version": "3.10.5"
  },
  "orig_nbformat": 4,
  "vscode": {
   "interpreter": {
    "hash": "719de4527c3cb25512416791eacd555332b3fdd73354831796c69a5d14e5d601"
   }
  }
 },
 "nbformat": 4,
 "nbformat_minor": 2
}
